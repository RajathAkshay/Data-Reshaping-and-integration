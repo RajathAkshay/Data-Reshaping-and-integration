{
 "cells": [
  {
   "cell_type": "markdown",
   "metadata": {},
   "source": [
    "#### Student Name: Rajath Akshay Vanikul\n",
    "\n",
    "Date: 12/06/2017\n",
    "\n",
    "Version: 2.0\n",
    "\n",
    "Environment: Python 3.6.0 and Anaconda 4.3.0 (64-bit)\n",
    "\n",
    "Libraries used:\n",
    "* pandas 0.19.2 (for data frame, included in Anaconda Python 3.6) \n",
    "* geopandas 5.0 (working with geospatial data in python, included in Anaconda Python 3.6)\n",
    "* ast 2.6 (to create string or node structure, included in Anaconda Python 3.6) \n",
    "* math 3.7.3 (provides access to the mathematical functions, included in Anaconda Python 3.6)\n",
    "* datetime 3.2 (module that supplies classes for manipulating dates and times, included in Anaconda Python 3.6)\n",
    "* matplotlib 3.0.3 (data visualization and plotting, included in Anaconda Python 3.6)\n",
    "* sklearn 20.2 (machine learning library, included in Anaconda Python 3.6)"
   ]
  },
  {
   "cell_type": "markdown",
   "metadata": {},
   "source": [
    "## Table of Contents\n",
    "\n",
    "1. [Introduction](#sec_1)\n",
    "2. [Import libraries](#sec_2)\n",
    "3. [Data Integration](#sec_3)\n",
    "4. [Data reshaping](#sec_4)\n",
    "5. [References](#sec_5)"
   ]
  },
  {
   "cell_type": "markdown",
   "metadata": {},
   "source": [
    "## 1. Introduction <a class=\"anchor\" id=\"sec_1\"></a>"
   ]
  },
  {
   "cell_type": "markdown",
   "metadata": {},
   "source": [
    "We are are provided multiple datasets in different sizes and the job is to create residential data in Victoria, Australia.\n",
    "\n",
    "#### Task 1: Data Ingegration\n",
    "\n",
    "It is a method in which information is obtained and mixed as an integrated shape and framework in different sizes and from different sources. It is a critical component of the method of data wrangling.\n",
    "\n",
    "There are five datasets supplied as part of this task. The goal of the task is to integrate the datasets to generate the specified schema in the project specification. The following datasets were provided to us\n",
    "\n",
    "1. **29498724.csv** <br>\n",
    "Housing property data of Melbourne.\n",
    "2. **vic_suburb_boundary** <br>\n",
    "This contains the subfolders VIC LOCALITY POLYGON shp.dbf, VIC LOCALITY POLYGON shp.prj, VIC LOCALITY POLYGON shp.shp and VIC LOCALITY POLYGON shp.shx ID where VIC LOCALITY POLYGON shp.shp is used to get the names of the suburbs.\n",
    "3. **gtfs** <br>\n",
    "It contains information about the agency, calendar_dates, calendar - service_id, start date , end date and travel days is on weekdays or weekends,;routes - route name, route id ; shapes - distance travelled, shape id , shape lat and shape lon ; stop_times - trip id , arrival time , departure time, stop id , shape distance travelled ; stops - stop id , stop name,stop lat and stop lon; trips - route\n",
    "4. **crimebylocationdatatable-yearending31march2016.xlsx** <br>\n",
    "It contains information about the Apr - Mar reference period, Police Region, Police Service Area, Local Government Area,CSA Offence Division, CSA Offence Subdivision,Offence Count\t,LGA  ERP and Victorian ERP.\n",
    "5. **councils.txt** <br>\n",
    "It has information about which all suburb belong to which all councils.\n",
    "\n",
    "\n",
    "#### Task 2: Data Reshaping\n",
    "\n",
    "This task is to build a linear model and study the effect of different normalisation and transformation methods on the predictors for melbourne housing price data."
   ]
  },
  {
   "cell_type": "markdown",
   "metadata": {},
   "source": [
    "## 2.  Import libraries <a class=\"anchor\" id=\"sec_2\"></a>"
   ]
  },
  {
   "cell_type": "code",
   "execution_count": 1,
   "metadata": {},
   "outputs": [],
   "source": [
    "import pandas as pd\n",
    "import geopandas as gpd\n",
    "from ast import literal_eval\n",
    "from math import sin,cos,sqrt,atan2,radians,log\n",
    "from datetime import datetime\n",
    "from sklearn.linear_model import LinearRegression\n",
    "from sklearn.metrics import mean_squared_error, r2_score\n",
    "from sklearn.model_selection import train_test_split\n",
    "from sklearn import preprocessing\n",
    "import matplotlib.pyplot as plt"
   ]
  },
  {
   "cell_type": "markdown",
   "metadata": {},
   "source": [
    "## 3. Data Integration <a class=\"anchor\" id=\"sec_3\"></a>"
   ]
  },
  {
   "cell_type": "code",
   "execution_count": 2,
   "metadata": {},
   "outputs": [
    {
     "data": {
      "text/plain": [
       "(720, 12)"
      ]
     },
     "execution_count": 2,
     "metadata": {},
     "output_type": "execute_result"
    }
   ],
   "source": [
    "# load the property data into a variable\n",
    "data = pd.read_csv(\"29498724.csv\")\n",
    "\n",
    "#inspect the number of rows and columns in the df.\n",
    "data.shape"
   ]
  },
  {
   "cell_type": "code",
   "execution_count": 3,
   "metadata": {},
   "outputs": [
    {
     "data": {
      "text/plain": [
       "(677, 12)"
      ]
     },
     "execution_count": 3,
     "metadata": {},
     "output_type": "execute_result"
    }
   ],
   "source": [
    "# removal of all the duplicated rows.\n",
    "data.drop_duplicates(inplace=True)\n",
    "\n",
    "#inspect the number of rows and columns in the df.\n",
    "data.shape"
   ]
  },
  {
   "cell_type": "code",
   "execution_count": 4,
   "metadata": {},
   "outputs": [
    {
     "data": {
      "text/html": [
       "<div>\n",
       "<style scoped>\n",
       "    .dataframe tbody tr th:only-of-type {\n",
       "        vertical-align: middle;\n",
       "    }\n",
       "\n",
       "    .dataframe tbody tr th {\n",
       "        vertical-align: top;\n",
       "    }\n",
       "\n",
       "    .dataframe thead th {\n",
       "        text-align: right;\n",
       "    }\n",
       "</style>\n",
       "<table border=\"1\" class=\"dataframe\">\n",
       "  <thead>\n",
       "    <tr style=\"text-align: right;\">\n",
       "      <th></th>\n",
       "      <th>ID</th>\n",
       "      <th>Address</th>\n",
       "      <th>Rooms</th>\n",
       "      <th>Type</th>\n",
       "      <th>Price</th>\n",
       "      <th>Date</th>\n",
       "      <th>Bathroom</th>\n",
       "      <th>Car</th>\n",
       "      <th>Landsize</th>\n",
       "      <th>Age</th>\n",
       "      <th>Lattitude</th>\n",
       "      <th>Longtitude</th>\n",
       "    </tr>\n",
       "  </thead>\n",
       "  <tbody>\n",
       "    <tr>\n",
       "      <th>0</th>\n",
       "      <td>ID229233544</td>\n",
       "      <td>21 Ryder St</td>\n",
       "      <td>3</td>\n",
       "      <td>h</td>\n",
       "      <td>810000.0</td>\n",
       "      <td>8/04/2017</td>\n",
       "      <td>2.0</td>\n",
       "      <td>1.0</td>\n",
       "      <td>297.0</td>\n",
       "      <td>64.0</td>\n",
       "      <td>-37.73800</td>\n",
       "      <td>144.88650</td>\n",
       "    </tr>\n",
       "    <tr>\n",
       "      <th>1</th>\n",
       "      <td>ID857095596</td>\n",
       "      <td>1/142 Shields St</td>\n",
       "      <td>1</td>\n",
       "      <td>u</td>\n",
       "      <td>280000.0</td>\n",
       "      <td>4/03/2017</td>\n",
       "      <td>1.0</td>\n",
       "      <td>1.0</td>\n",
       "      <td>0.0</td>\n",
       "      <td>49.0</td>\n",
       "      <td>-37.78390</td>\n",
       "      <td>144.93470</td>\n",
       "    </tr>\n",
       "    <tr>\n",
       "      <th>2</th>\n",
       "      <td>ID417415267</td>\n",
       "      <td>6 MacKenzie St</td>\n",
       "      <td>3</td>\n",
       "      <td>h</td>\n",
       "      <td>718500.0</td>\n",
       "      <td>28/05/2016</td>\n",
       "      <td>1.0</td>\n",
       "      <td>6.0</td>\n",
       "      <td>807.0</td>\n",
       "      <td>44.0</td>\n",
       "      <td>-37.70400</td>\n",
       "      <td>144.98640</td>\n",
       "    </tr>\n",
       "    <tr>\n",
       "      <th>3</th>\n",
       "      <td>ID156702797</td>\n",
       "      <td>12 Ralph St</td>\n",
       "      <td>4</td>\n",
       "      <td>h</td>\n",
       "      <td>1300000.0</td>\n",
       "      <td>23/09/2017</td>\n",
       "      <td>2.0</td>\n",
       "      <td>3.0</td>\n",
       "      <td>650.0</td>\n",
       "      <td>59.0</td>\n",
       "      <td>-37.77352</td>\n",
       "      <td>145.09844</td>\n",
       "    </tr>\n",
       "    <tr>\n",
       "      <th>4</th>\n",
       "      <td>ID792883992</td>\n",
       "      <td>392 Station St</td>\n",
       "      <td>2</td>\n",
       "      <td>h</td>\n",
       "      <td>2400000.0</td>\n",
       "      <td>12/11/2016</td>\n",
       "      <td>2.0</td>\n",
       "      <td>0.0</td>\n",
       "      <td>413.0</td>\n",
       "      <td>119.0</td>\n",
       "      <td>-37.78750</td>\n",
       "      <td>144.97590</td>\n",
       "    </tr>\n",
       "  </tbody>\n",
       "</table>\n",
       "</div>"
      ],
      "text/plain": [
       "            ID           Address  Rooms Type      Price        Date  Bathroom  \\\n",
       "0  ID229233544       21 Ryder St      3    h   810000.0   8/04/2017       2.0   \n",
       "1  ID857095596  1/142 Shields St      1    u   280000.0   4/03/2017       1.0   \n",
       "2  ID417415267    6 MacKenzie St      3    h   718500.0  28/05/2016       1.0   \n",
       "3  ID156702797       12 Ralph St      4    h  1300000.0  23/09/2017       2.0   \n",
       "4  ID792883992    392 Station St      2    h  2400000.0  12/11/2016       2.0   \n",
       "\n",
       "   Car  Landsize    Age  Lattitude  Longtitude  \n",
       "0  1.0     297.0   64.0  -37.73800   144.88650  \n",
       "1  1.0       0.0   49.0  -37.78390   144.93470  \n",
       "2  6.0     807.0   44.0  -37.70400   144.98640  \n",
       "3  3.0     650.0   59.0  -37.77352   145.09844  \n",
       "4  0.0     413.0  119.0  -37.78750   144.97590  "
      ]
     },
     "execution_count": 4,
     "metadata": {},
     "output_type": "execute_result"
    }
   ],
   "source": [
    "# inspect the sample of the data.\n",
    "data.head()"
   ]
  },
  {
   "cell_type": "markdown",
   "metadata": {},
   "source": [
    "#### 3.1 SUBURB\n",
    "This contains the subfolders VIC LOCALITY POLYGON shp.dbf, VIC LOCALITY POLYGON shp.prj, VIC LOCALITY POLYGON shp.shp and VIC LOCALITY POLYGON shp.shx ID where VIC LOCALITY POLYGON shp.shp is used to get the names of the suburbs."
   ]
  },
  {
   "cell_type": "code",
   "execution_count": 5,
   "metadata": {},
   "outputs": [],
   "source": [
    "# use of geopandas to read the spacial data.\n",
    "df_suburb = gpd.read_file(\"vic_suburb_boundary/VIC_LOCALITY_POLYGON_shp.shp\")"
   ]
  },
  {
   "cell_type": "code",
   "execution_count": 6,
   "metadata": {},
   "outputs": [],
   "source": [
    "#executing exterior.coords will return the exterior coordinates as a list\n",
    "df_suburb['geomlist'] = df_suburb['geometry'].apply(lambda x: list(x.exterior.coords))"
   ]
  },
  {
   "cell_type": "code",
   "execution_count": 7,
   "metadata": {},
   "outputs": [],
   "source": [
    "# function accepts a set of coordinates and the “list-ified” boundary coordinates for a given neighbourhood \n",
    "# and checks whether the coordinates fall within the boundary.\n",
    "# returns true if lat/long are within the bounds of the polygon.\n",
    "def point_inside_polygon(lat,lng,poly):\n",
    "    n = len(poly)\n",
    "    inside =False\n",
    "    p1x,p1y = poly[0]\n",
    "    for i in range(n+1):\n",
    "        p2x,p2y = poly[i % n]\n",
    "        if lat > min(p1y,p2y):\n",
    "            if lat <= max(p1y,p2y):\n",
    "                if lng <= max(p1x,p2x):\n",
    "                    if p1y != p2y:\n",
    "                        xinters = (lat-p1y)*(p2x-p1x)/(p2y-p1y)+p1x\n",
    "                    if p1x == p2x or lng <= xinters:\n",
    "                        inside = not inside\n",
    "        p1x,p1y = p2x,p2y\n",
    "    return inside"
   ]
  },
  {
   "cell_type": "code",
   "execution_count": 8,
   "metadata": {},
   "outputs": [],
   "source": [
    "# function to check lat and lon ro return suburb\n",
    "\n",
    "def get_suburb(row):\n",
    "    for ix,area in df_suburb.iterrows():\n",
    "        is_in_area=False\n",
    "        if row['Lattitude'] and row['Longtitude']:\n",
    "            is_in_area = point_inside_polygon(row['Lattitude'], row['Longtitude'], area['geomlist'])\n",
    "            if is_in_area:\n",
    "                #found area, exit\n",
    "                return area['VIC_LOCA_2']\n",
    "    return \"not available\""
   ]
  },
  {
   "cell_type": "code",
   "execution_count": 9,
   "metadata": {},
   "outputs": [],
   "source": [
    "# populate the suburb column with respective suburb names.\n",
    "data['Suburb'] = data.apply(lambda row: get_suburb(row), axis=1)"
   ]
  },
  {
   "cell_type": "code",
   "execution_count": 10,
   "metadata": {},
   "outputs": [
    {
     "data": {
      "text/html": [
       "<div>\n",
       "<style scoped>\n",
       "    .dataframe tbody tr th:only-of-type {\n",
       "        vertical-align: middle;\n",
       "    }\n",
       "\n",
       "    .dataframe tbody tr th {\n",
       "        vertical-align: top;\n",
       "    }\n",
       "\n",
       "    .dataframe thead th {\n",
       "        text-align: right;\n",
       "    }\n",
       "</style>\n",
       "<table border=\"1\" class=\"dataframe\">\n",
       "  <thead>\n",
       "    <tr style=\"text-align: right;\">\n",
       "      <th></th>\n",
       "      <th>ID</th>\n",
       "      <th>Address</th>\n",
       "      <th>Rooms</th>\n",
       "      <th>Type</th>\n",
       "      <th>Price</th>\n",
       "      <th>Date</th>\n",
       "      <th>Bathroom</th>\n",
       "      <th>Car</th>\n",
       "      <th>Landsize</th>\n",
       "      <th>Age</th>\n",
       "      <th>Lattitude</th>\n",
       "      <th>Longtitude</th>\n",
       "      <th>Suburb</th>\n",
       "    </tr>\n",
       "  </thead>\n",
       "  <tbody>\n",
       "    <tr>\n",
       "      <th>0</th>\n",
       "      <td>ID229233544</td>\n",
       "      <td>21 Ryder St</td>\n",
       "      <td>3</td>\n",
       "      <td>h</td>\n",
       "      <td>810000.0</td>\n",
       "      <td>8/04/2017</td>\n",
       "      <td>2.0</td>\n",
       "      <td>1.0</td>\n",
       "      <td>297.0</td>\n",
       "      <td>64.0</td>\n",
       "      <td>-37.73800</td>\n",
       "      <td>144.88650</td>\n",
       "      <td>NIDDRIE</td>\n",
       "    </tr>\n",
       "    <tr>\n",
       "      <th>1</th>\n",
       "      <td>ID857095596</td>\n",
       "      <td>1/142 Shields St</td>\n",
       "      <td>1</td>\n",
       "      <td>u</td>\n",
       "      <td>280000.0</td>\n",
       "      <td>4/03/2017</td>\n",
       "      <td>1.0</td>\n",
       "      <td>1.0</td>\n",
       "      <td>0.0</td>\n",
       "      <td>49.0</td>\n",
       "      <td>-37.78390</td>\n",
       "      <td>144.93470</td>\n",
       "      <td>FLEMINGTON</td>\n",
       "    </tr>\n",
       "    <tr>\n",
       "      <th>2</th>\n",
       "      <td>ID417415267</td>\n",
       "      <td>6 MacKenzie St</td>\n",
       "      <td>3</td>\n",
       "      <td>h</td>\n",
       "      <td>718500.0</td>\n",
       "      <td>28/05/2016</td>\n",
       "      <td>1.0</td>\n",
       "      <td>6.0</td>\n",
       "      <td>807.0</td>\n",
       "      <td>44.0</td>\n",
       "      <td>-37.70400</td>\n",
       "      <td>144.98640</td>\n",
       "      <td>RESERVOIR</td>\n",
       "    </tr>\n",
       "    <tr>\n",
       "      <th>3</th>\n",
       "      <td>ID156702797</td>\n",
       "      <td>12 Ralph St</td>\n",
       "      <td>4</td>\n",
       "      <td>h</td>\n",
       "      <td>1300000.0</td>\n",
       "      <td>23/09/2017</td>\n",
       "      <td>2.0</td>\n",
       "      <td>3.0</td>\n",
       "      <td>650.0</td>\n",
       "      <td>59.0</td>\n",
       "      <td>-37.77352</td>\n",
       "      <td>145.09844</td>\n",
       "      <td>BULLEEN</td>\n",
       "    </tr>\n",
       "    <tr>\n",
       "      <th>4</th>\n",
       "      <td>ID792883992</td>\n",
       "      <td>392 Station St</td>\n",
       "      <td>2</td>\n",
       "      <td>h</td>\n",
       "      <td>2400000.0</td>\n",
       "      <td>12/11/2016</td>\n",
       "      <td>2.0</td>\n",
       "      <td>0.0</td>\n",
       "      <td>413.0</td>\n",
       "      <td>119.0</td>\n",
       "      <td>-37.78750</td>\n",
       "      <td>144.97590</td>\n",
       "      <td>CARLTON NORTH</td>\n",
       "    </tr>\n",
       "  </tbody>\n",
       "</table>\n",
       "</div>"
      ],
      "text/plain": [
       "            ID           Address  Rooms Type      Price        Date  Bathroom  \\\n",
       "0  ID229233544       21 Ryder St      3    h   810000.0   8/04/2017       2.0   \n",
       "1  ID857095596  1/142 Shields St      1    u   280000.0   4/03/2017       1.0   \n",
       "2  ID417415267    6 MacKenzie St      3    h   718500.0  28/05/2016       1.0   \n",
       "3  ID156702797       12 Ralph St      4    h  1300000.0  23/09/2017       2.0   \n",
       "4  ID792883992    392 Station St      2    h  2400000.0  12/11/2016       2.0   \n",
       "\n",
       "   Car  Landsize    Age  Lattitude  Longtitude         Suburb  \n",
       "0  1.0     297.0   64.0  -37.73800   144.88650        NIDDRIE  \n",
       "1  1.0       0.0   49.0  -37.78390   144.93470     FLEMINGTON  \n",
       "2  6.0     807.0   44.0  -37.70400   144.98640      RESERVOIR  \n",
       "3  3.0     650.0   59.0  -37.77352   145.09844        BULLEEN  \n",
       "4  0.0     413.0  119.0  -37.78750   144.97590  CARLTON NORTH  "
      ]
     },
     "execution_count": 10,
     "metadata": {},
     "output_type": "execute_result"
    }
   ],
   "source": [
    "# inspect the sample of data with suburb data.\n",
    "data.head()"
   ]
  },
  {
   "cell_type": "markdown",
   "metadata": {},
   "source": [
    "#### 3.2 Extracting train information.\n",
    "\n",
    "Extract information about train_station_id, distance_to_train_station and travel_min_to_CBD with defauly value as 0."
   ]
  },
  {
   "cell_type": "code",
   "execution_count": 11,
   "metadata": {},
   "outputs": [],
   "source": [
    "#Loading Melbourne GTFS 1 data\n",
    "stops1=pd.read_csv('gtfs/1/google_transit/stops.txt',sep=\",\")\n",
    "routes1=pd.read_csv('gtfs/1/google_transit/routes.txt',sep=\",\")\n",
    "stop_time1=pd.read_csv('gtfs/1/google_transit/stop_times.txt',sep=\",\")\n",
    "trips1=pd.read_csv('gtfs/1/google_transit/trips.txt',sep=\",\")\n",
    "calendar1=pd.read_csv('gtfs/1/google_transit/calendar.txt',sep=\",\")"
   ]
  },
  {
   "cell_type": "code",
   "execution_count": 12,
   "metadata": {},
   "outputs": [],
   "source": [
    "#Loading Melbourne GTFS 2 data\n",
    "stops2=pd.read_csv('gtfs/2/google_transit/stops.txt',sep=\",\")\n",
    "routes2=pd.read_csv('gtfs/2/google_transit/routes.txt',sep=\",\")\n",
    "stop_time2=pd.read_csv('gtfs/2/google_transit/stop_times.txt',sep=\",\")\n",
    "trips2=pd.read_csv('gtfs/2/google_transit/trips.txt',sep=\",\")\n",
    "calendar2=pd.read_csv('gtfs/2/google_transit/calendar.txt',sep=\",\")"
   ]
  },
  {
   "cell_type": "code",
   "execution_count": 13,
   "metadata": {},
   "outputs": [],
   "source": [
    "#concat similar dfs\n",
    "stops=pd.concat([stops1,stops2])\n",
    "routes=pd.concat([routes1,routes2])\n",
    "stop_time=pd.concat([stop_time1,stop_time2])\n",
    "trips=pd.concat([trips1,trips2])\n",
    "calendar=pd.concat([calendar1,calendar2])"
   ]
  },
  {
   "cell_type": "code",
   "execution_count": 14,
   "metadata": {},
   "outputs": [
    {
     "data": {
      "text/plain": [
       "(947141, 32)"
      ]
     },
     "execution_count": 14,
     "metadata": {},
     "output_type": "execute_result"
    }
   ],
   "source": [
    "# Merging them into single DataFrame\n",
    "result=routes.merge(trips,left_on='route_id',right_on='route_id',how='inner')\n",
    "result=result.merge(stop_time,left_on='trip_id',right_on='trip_id',how='inner')\n",
    "result=result.merge(stops,left_on='stop_id',right_on='stop_id',how='inner')\n",
    "result=result.merge(calendar,left_on='service_id',right_on='service_id',how='inner')\n",
    "result.shape"
   ]
  },
  {
   "cell_type": "code",
   "execution_count": 15,
   "metadata": {},
   "outputs": [
    {
     "data": {
      "text/plain": [
       "(9549, 32)"
      ]
     },
     "execution_count": 15,
     "metadata": {},
     "output_type": "execute_result"
    }
   ],
   "source": [
    "# filtering train info with trains travelling towards southern cross station on all weekdays between 7:00-9:30AM.\n",
    "\n",
    "# direction id \"0\" will signify the train travelling towards southern cross station.\n",
    "SC = result[result.direction_id == 0]\n",
    "\n",
    "# filter it for trains that travel on all weekdays\n",
    "SC = SC[(SC.monday == 1) & (SC.tuesday == 1) & (SC.wednesday == 1) & (SC.thursday == 1) & (SC.friday == 1)]\n",
    "\n",
    "# filter it for departure time between 7:00-9:30AM.\n",
    "SC = SC[(SC.departure_time >= '07:00:00') & (SC.departure_time <= '09:30:00')]\n",
    "\n",
    "# Inspect the shape of the final filtered data frame.\n",
    "SC.shape"
   ]
  },
  {
   "cell_type": "code",
   "execution_count": 16,
   "metadata": {},
   "outputs": [
    {
     "data": {
      "text/plain": [
       "(16023, 32)"
      ]
     },
     "execution_count": 16,
     "metadata": {},
     "output_type": "execute_result"
    }
   ],
   "source": [
    "# now extract all the trip ID of all the trains which stop at southern cross station and travel towards southern cross.\n",
    "\n",
    "# stop IDs for southern cross station are 20043 and 22180.\n",
    "SC_stop = result[result[\"stop_id\"].isin([20043, 22180])]\n",
    "\n",
    "# direction id \"0\" will signify the train travelling towards southern cross station.\n",
    "SC_stop = SC_stop[SC_stop.direction_id == 0]\n",
    "\n",
    "# Inspect the shape of the final filtered data frame.\n",
    "SC_stop.shape"
   ]
  },
  {
   "cell_type": "code",
   "execution_count": 17,
   "metadata": {},
   "outputs": [
    {
     "data": {
      "text/plain": [
       "(4352, 63)"
      ]
     },
     "execution_count": 17,
     "metadata": {},
     "output_type": "execute_result"
    }
   ],
   "source": [
    "# extracting just the required columns of SC_stop. \n",
    "res=SC_stop[['route_id','trip_id','arrival_time','departure_time','stop_id','direction_id']]\n",
    "\n",
    "# extracting just the required columns of all the trains towards southern cross station. \n",
    "SC_temp=SC[['route_id','trip_id','arrival_time','departure_time','stop_id','direction_id','stop_lat','stop_lon']]\n",
    "\n",
    "# merge both the dataframes on trip_id.\n",
    "same_trip = SC.merge(SC_stop,left_on=['trip_id'],right_on=['trip_id'],suffixes=('_1','_2'))\n",
    "\n",
    "# filter df with dept time less than arrival time\n",
    "same_trip = same_trip[same_trip.departure_time_1 <= same_trip.arrival_time_2]\n",
    "\n",
    "# Inspect the shape of the final filtered data frame.\n",
    "same_trip.shape"
   ]
  },
  {
   "cell_type": "code",
   "execution_count": 18,
   "metadata": {},
   "outputs": [
    {
     "data": {
      "text/plain": [
       "(4352, 64)"
      ]
     },
     "execution_count": 18,
     "metadata": {},
     "output_type": "execute_result"
    }
   ],
   "source": [
    "# calculate the travel time.\n",
    "same_trip['time']=pd.to_datetime(same_trip['arrival_time_2'])-pd.to_datetime(same_trip['departure_time_1'])\n",
    "\n",
    "# convert to minutes.\n",
    "same_trip['time']=same_trip['time'].dt.total_seconds()/60\n",
    "\n",
    "# Inspect the shape of the final filtered data frame.\n",
    "same_trip.shape"
   ]
  },
  {
   "cell_type": "code",
   "execution_count": 19,
   "metadata": {},
   "outputs": [
    {
     "data": {
      "text/plain": [
       "(4352, 64)"
      ]
     },
     "execution_count": 19,
     "metadata": {},
     "output_type": "execute_result"
    }
   ],
   "source": [
    "# delete all the duplicate rows\n",
    "same_trip.drop_duplicates(inplace=True)\n",
    "\n",
    "# Inspect the shape of the final filtered data frame.\n",
    "same_trip.shape"
   ]
  },
  {
   "cell_type": "code",
   "execution_count": 20,
   "metadata": {},
   "outputs": [],
   "source": [
    "# A function to calculate the distance using Haversine formula.\n",
    "\n",
    "def distance(lat,med_lat,lon,med_lon):\n",
    "    R = 6378.0\n",
    "    lat,lon,med_lat,med_lon = map(radians,[lat,lon,med_lat,med_lon]) # calculate the radians\n",
    "    # Haversine formula\n",
    "    h = sin((med_lat - lat)/2)**2 + cos(lat) * cos(med_lat) * sin((med_lon - lon)/2)**2\n",
    "    c = 2 * atan2(sqrt(h),sqrt(1 - h))\n",
    "    dist = R*c\n",
    "    # return the distance\n",
    "    return dist"
   ]
  },
  {
   "cell_type": "code",
   "execution_count": 21,
   "metadata": {},
   "outputs": [],
   "source": [
    "# A function to calculate all the distances and identify the optimum station for the co-ordinate. \n",
    "dist_list = []\n",
    "def Station(item):\n",
    "    dist_dict={} # list to store all the distance values calculated\n",
    "    \n",
    "    \n",
    "    # iterate thorough  all the train details.\n",
    "    for i,j in same_trip.iterrows():\n",
    "        d = (distance(item[\"Lattitude\"],j.stop_lat_1,item[\"Longtitude\"],j.stop_lon_1))\n",
    "        dist_dict[j.stop_id_1] = d\n",
    "    \n",
    "    least = min(dist_dict.items(), key=lambda x: x[1])\n",
    "    return least"
   ]
  },
  {
   "cell_type": "code",
   "execution_count": 22,
   "metadata": {},
   "outputs": [],
   "source": [
    "# determine the station ID and distance for each record in df\n",
    "data[\"Temp\"] = data.apply(Station,axis=1)\n",
    "\n",
    "# use two different columns to store train ID and distance to train startion.\n",
    "data[['train_station_id', 'distance_to_train_station']] = pd.DataFrame(data['Temp'].tolist(), index=data.index) "
   ]
  },
  {
   "cell_type": "code",
   "execution_count": 23,
   "metadata": {},
   "outputs": [
    {
     "data": {
      "text/html": [
       "<div>\n",
       "<style scoped>\n",
       "    .dataframe tbody tr th:only-of-type {\n",
       "        vertical-align: middle;\n",
       "    }\n",
       "\n",
       "    .dataframe tbody tr th {\n",
       "        vertical-align: top;\n",
       "    }\n",
       "\n",
       "    .dataframe thead th {\n",
       "        text-align: right;\n",
       "    }\n",
       "</style>\n",
       "<table border=\"1\" class=\"dataframe\">\n",
       "  <thead>\n",
       "    <tr style=\"text-align: right;\">\n",
       "      <th></th>\n",
       "      <th>stop_id</th>\n",
       "      <th>travel_min_to_CBD</th>\n",
       "    </tr>\n",
       "  </thead>\n",
       "  <tbody>\n",
       "    <tr>\n",
       "      <th>0</th>\n",
       "      <td>17204</td>\n",
       "      <td>56.750000</td>\n",
       "    </tr>\n",
       "    <tr>\n",
       "      <th>1</th>\n",
       "      <td>19841</td>\n",
       "      <td>3.869565</td>\n",
       "    </tr>\n",
       "    <tr>\n",
       "      <th>2</th>\n",
       "      <td>19842</td>\n",
       "      <td>5.043478</td>\n",
       "    </tr>\n",
       "    <tr>\n",
       "      <th>3</th>\n",
       "      <td>19843</td>\n",
       "      <td>6.231884</td>\n",
       "    </tr>\n",
       "    <tr>\n",
       "      <th>4</th>\n",
       "      <td>19854</td>\n",
       "      <td>3.481013</td>\n",
       "    </tr>\n",
       "  </tbody>\n",
       "</table>\n",
       "</div>"
      ],
      "text/plain": [
       "   stop_id  travel_min_to_CBD\n",
       "0    17204          56.750000\n",
       "1    19841           3.869565\n",
       "2    19842           5.043478\n",
       "3    19843           6.231884\n",
       "4    19854           3.481013"
      ]
     },
     "execution_count": 23,
     "metadata": {},
     "output_type": "execute_result"
    }
   ],
   "source": [
    "# Calculating travel time for the journey between train station to southern cross station.\n",
    "\n",
    "# groupby each stop ID and average the times.\n",
    "a = same_trip.groupby('stop_id_1')['time'].mean()\n",
    "\n",
    "# converting into a df\n",
    "avg_time = pd.DataFrame({'stop_id':a.index, 'travel_min_to_CBD':a.values})\n",
    "\n",
    "# inspecting sample of averaged time.\n",
    "avg_time.head()"
   ]
  },
  {
   "cell_type": "code",
   "execution_count": 24,
   "metadata": {},
   "outputs": [
    {
     "data": {
      "text/html": [
       "<div>\n",
       "<style scoped>\n",
       "    .dataframe tbody tr th:only-of-type {\n",
       "        vertical-align: middle;\n",
       "    }\n",
       "\n",
       "    .dataframe tbody tr th {\n",
       "        vertical-align: top;\n",
       "    }\n",
       "\n",
       "    .dataframe thead th {\n",
       "        text-align: right;\n",
       "    }\n",
       "</style>\n",
       "<table border=\"1\" class=\"dataframe\">\n",
       "  <thead>\n",
       "    <tr style=\"text-align: right;\">\n",
       "      <th></th>\n",
       "      <th>ID</th>\n",
       "      <th>Address</th>\n",
       "      <th>Rooms</th>\n",
       "      <th>Type</th>\n",
       "      <th>Price</th>\n",
       "      <th>Date</th>\n",
       "      <th>Bathroom</th>\n",
       "      <th>Car</th>\n",
       "      <th>Landsize</th>\n",
       "      <th>Age</th>\n",
       "      <th>Lattitude</th>\n",
       "      <th>Longtitude</th>\n",
       "      <th>Suburb</th>\n",
       "      <th>Temp</th>\n",
       "      <th>train_station_id</th>\n",
       "      <th>distance_to_train_station</th>\n",
       "      <th>stop_id</th>\n",
       "      <th>travel_min_to_CBD</th>\n",
       "    </tr>\n",
       "  </thead>\n",
       "  <tbody>\n",
       "    <tr>\n",
       "      <th>0</th>\n",
       "      <td>ID229233544</td>\n",
       "      <td>21 Ryder St</td>\n",
       "      <td>3</td>\n",
       "      <td>h</td>\n",
       "      <td>810000.0</td>\n",
       "      <td>8/04/2017</td>\n",
       "      <td>2.0</td>\n",
       "      <td>1.0</td>\n",
       "      <td>297.0</td>\n",
       "      <td>64.0</td>\n",
       "      <td>-37.73800</td>\n",
       "      <td>144.88650</td>\n",
       "      <td>NIDDRIE</td>\n",
       "      <td>(22253, 3.2943971930066613)</td>\n",
       "      <td>22253</td>\n",
       "      <td>3.294397</td>\n",
       "      <td>22253</td>\n",
       "      <td>18.333333</td>\n",
       "    </tr>\n",
       "    <tr>\n",
       "      <th>1</th>\n",
       "      <td>ID857095596</td>\n",
       "      <td>1/142 Shields St</td>\n",
       "      <td>1</td>\n",
       "      <td>u</td>\n",
       "      <td>280000.0</td>\n",
       "      <td>4/03/2017</td>\n",
       "      <td>1.0</td>\n",
       "      <td>1.0</td>\n",
       "      <td>0.0</td>\n",
       "      <td>49.0</td>\n",
       "      <td>-37.78390</td>\n",
       "      <td>144.93470</td>\n",
       "      <td>FLEMINGTON</td>\n",
       "      <td>(22239, 2.5655167549405453)</td>\n",
       "      <td>22239</td>\n",
       "      <td>2.565517</td>\n",
       "      <td>22239</td>\n",
       "      <td>7.000000</td>\n",
       "    </tr>\n",
       "    <tr>\n",
       "      <th>2</th>\n",
       "      <td>ID417415267</td>\n",
       "      <td>6 MacKenzie St</td>\n",
       "      <td>3</td>\n",
       "      <td>h</td>\n",
       "      <td>718500.0</td>\n",
       "      <td>28/05/2016</td>\n",
       "      <td>1.0</td>\n",
       "      <td>6.0</td>\n",
       "      <td>807.0</td>\n",
       "      <td>44.0</td>\n",
       "      <td>-37.70400</td>\n",
       "      <td>144.98640</td>\n",
       "      <td>RESERVOIR</td>\n",
       "      <td>(20009, 2.081588772714229)</td>\n",
       "      <td>20009</td>\n",
       "      <td>2.081589</td>\n",
       "      <td>20009</td>\n",
       "      <td>35.200000</td>\n",
       "    </tr>\n",
       "    <tr>\n",
       "      <th>3</th>\n",
       "      <td>ID156702797</td>\n",
       "      <td>12 Ralph St</td>\n",
       "      <td>4</td>\n",
       "      <td>h</td>\n",
       "      <td>1300000.0</td>\n",
       "      <td>23/09/2017</td>\n",
       "      <td>2.0</td>\n",
       "      <td>3.0</td>\n",
       "      <td>650.0</td>\n",
       "      <td>59.0</td>\n",
       "      <td>-37.77352</td>\n",
       "      <td>145.09844</td>\n",
       "      <td>BULLEEN</td>\n",
       "      <td>(20015, 8.982659528924438)</td>\n",
       "      <td>20015</td>\n",
       "      <td>8.982660</td>\n",
       "      <td>20015</td>\n",
       "      <td>23.300000</td>\n",
       "    </tr>\n",
       "    <tr>\n",
       "      <th>4</th>\n",
       "      <td>ID792883992</td>\n",
       "      <td>392 Station St</td>\n",
       "      <td>2</td>\n",
       "      <td>h</td>\n",
       "      <td>2400000.0</td>\n",
       "      <td>12/11/2016</td>\n",
       "      <td>2.0</td>\n",
       "      <td>0.0</td>\n",
       "      <td>413.0</td>\n",
       "      <td>119.0</td>\n",
       "      <td>-37.78750</td>\n",
       "      <td>144.97590</td>\n",
       "      <td>CARLTON NORTH</td>\n",
       "      <td>(20019, 1.5284708874126687)</td>\n",
       "      <td>20019</td>\n",
       "      <td>1.528471</td>\n",
       "      <td>20019</td>\n",
       "      <td>18.300000</td>\n",
       "    </tr>\n",
       "  </tbody>\n",
       "</table>\n",
       "</div>"
      ],
      "text/plain": [
       "            ID           Address  Rooms Type      Price        Date  Bathroom  \\\n",
       "0  ID229233544       21 Ryder St      3    h   810000.0   8/04/2017       2.0   \n",
       "1  ID857095596  1/142 Shields St      1    u   280000.0   4/03/2017       1.0   \n",
       "2  ID417415267    6 MacKenzie St      3    h   718500.0  28/05/2016       1.0   \n",
       "3  ID156702797       12 Ralph St      4    h  1300000.0  23/09/2017       2.0   \n",
       "4  ID792883992    392 Station St      2    h  2400000.0  12/11/2016       2.0   \n",
       "\n",
       "   Car  Landsize    Age  Lattitude  Longtitude         Suburb  \\\n",
       "0  1.0     297.0   64.0  -37.73800   144.88650        NIDDRIE   \n",
       "1  1.0       0.0   49.0  -37.78390   144.93470     FLEMINGTON   \n",
       "2  6.0     807.0   44.0  -37.70400   144.98640      RESERVOIR   \n",
       "3  3.0     650.0   59.0  -37.77352   145.09844        BULLEEN   \n",
       "4  0.0     413.0  119.0  -37.78750   144.97590  CARLTON NORTH   \n",
       "\n",
       "                          Temp  train_station_id  distance_to_train_station  \\\n",
       "0  (22253, 3.2943971930066613)             22253                   3.294397   \n",
       "1  (22239, 2.5655167549405453)             22239                   2.565517   \n",
       "2   (20009, 2.081588772714229)             20009                   2.081589   \n",
       "3   (20015, 8.982659528924438)             20015                   8.982660   \n",
       "4  (20019, 1.5284708874126687)             20019                   1.528471   \n",
       "\n",
       "   stop_id  travel_min_to_CBD  \n",
       "0    22253          18.333333  \n",
       "1    22239           7.000000  \n",
       "2    20009          35.200000  \n",
       "3    20015          23.300000  \n",
       "4    20019          18.300000  "
      ]
     },
     "execution_count": 24,
     "metadata": {},
     "output_type": "execute_result"
    }
   ],
   "source": [
    "# merging the calculated time to our original df to get the average time.\n",
    "data = data.merge(avg_time,left_on='train_station_id',right_on='stop_id',how='left')\n",
    "\n",
    "# display the sample of the df\n",
    "data.head()"
   ]
  },
  {
   "cell_type": "markdown",
   "metadata": {},
   "source": [
    "#### 3.3 Determining Overpriced properties.\n",
    "\n",
    "Create a column with values \"True\" if the property is over priced and \"False\" if not."
   ]
  },
  {
   "cell_type": "code",
   "execution_count": 25,
   "metadata": {},
   "outputs": [],
   "source": [
    "# read the council data to a dictionary\n",
    "council = {}\n",
    "with open(\"councils.txt\") as f:\n",
    "    for line in f:\n",
    "        (key, val) = line.split(':')\n",
    "        val = [x.upper() for x in literal_eval(val.strip())]\n",
    "        council[key.strip()] = val\n",
    "        \n",
    "# calculate the council names for each record in property data.\n",
    "temp = []\n",
    "for i,j in data.iterrows():\n",
    "    for x in council:\n",
    "        if j.Suburb in council[x]:\n",
    "            temp.append(x)\n",
    "            \n",
    "# create a column to store the council for each record.\n",
    "data[\"council\"] = temp"
   ]
  },
  {
   "cell_type": "code",
   "execution_count": 26,
   "metadata": {},
   "outputs": [],
   "source": [
    "# determine the selling year of the property.\n",
    "data[\"Year\"] = (data.Date.str[-4:]).astype(int) "
   ]
  },
  {
   "cell_type": "code",
   "execution_count": 27,
   "metadata": {},
   "outputs": [],
   "source": [
    "#find median price based on features(bedrooms, bathrooms, parking_space, and property_type) n then if price >median place in new column as True\n",
    "\n",
    "# default value\n",
    "data['over_priced?'] = -1\n",
    "for index,row in data.iterrows():\n",
    "    temp = data[(data['Rooms']== row['Rooms']) & (data['Bathroom'] == row['Bathroom']) & (data['Car'] == row['Car']) & (data['Type'] == row['Type']) & (data['Year']==row['Year'])] \n",
    "    if row['Price'] > temp['Price'].median(): # price of the property greater than the median price\n",
    "        data.iloc[index, data.columns.get_loc('over_priced?')] = True\n",
    "    else:\n",
    "        data.iloc[index, data.columns.get_loc('over_priced?')] = False "
   ]
  },
  {
   "cell_type": "markdown",
   "metadata": {},
   "source": [
    "#### 3.4 Extracting crime data\n",
    "\n",
    "Determine crime A, crime B and crime C average values of each record of property data."
   ]
  },
  {
   "cell_type": "code",
   "execution_count": 28,
   "metadata": {},
   "outputs": [
    {
     "data": {
      "text/plain": [
       "(9085, 9)"
      ]
     },
     "execution_count": 28,
     "metadata": {},
     "output_type": "execute_result"
    }
   ],
   "source": [
    "# read the crime excel file to a variable.\n",
    "crime = pd.read_excel(\"crimebylocationdatatable-yearending31march2016.xlsx\",sheet_name=1)\n",
    "\n",
    "# extract just the table in the sheet.\n",
    "crime = crime.iloc[17:]\n",
    "crime = crime.drop(crime.columns[0], axis=1)\n",
    "crime.columns = crime.iloc[0]\n",
    "crime = crime.iloc[1:]\n",
    "\n",
    "# inspect the shape of the variable\n",
    "crime.shape"
   ]
  },
  {
   "cell_type": "code",
   "execution_count": 29,
   "metadata": {},
   "outputs": [
    {
     "data": {
      "text/html": [
       "<div>\n",
       "<style scoped>\n",
       "    .dataframe tbody tr th:only-of-type {\n",
       "        vertical-align: middle;\n",
       "    }\n",
       "\n",
       "    .dataframe tbody tr th {\n",
       "        vertical-align: top;\n",
       "    }\n",
       "\n",
       "    .dataframe thead th {\n",
       "        text-align: right;\n",
       "    }\n",
       "</style>\n",
       "<table border=\"1\" class=\"dataframe\">\n",
       "  <thead>\n",
       "    <tr style=\"text-align: right;\">\n",
       "      <th>17</th>\n",
       "      <th>Apr - Mar reference period</th>\n",
       "      <th>Police Region</th>\n",
       "      <th>Police Service Area</th>\n",
       "      <th>Local Government Area</th>\n",
       "      <th>CSA Offence Division</th>\n",
       "      <th>CSA Offence Subdivision</th>\n",
       "      <th>Offence Count</th>\n",
       "      <th>LGA ERP</th>\n",
       "      <th>Victorian ERP</th>\n",
       "    </tr>\n",
       "  </thead>\n",
       "  <tbody>\n",
       "    <tr>\n",
       "      <th>18</th>\n",
       "      <td>2012</td>\n",
       "      <td>1 North West Metro</td>\n",
       "      <td>BANYULE</td>\n",
       "      <td>BANYULE</td>\n",
       "      <td>A Crimes against the person</td>\n",
       "      <td>A10 Homicide and related offences</td>\n",
       "      <td>4</td>\n",
       "      <td>123600</td>\n",
       "      <td>5632521</td>\n",
       "    </tr>\n",
       "    <tr>\n",
       "      <th>19</th>\n",
       "      <td>2012</td>\n",
       "      <td>1 North West Metro</td>\n",
       "      <td>BANYULE</td>\n",
       "      <td>BANYULE</td>\n",
       "      <td>A Crimes against the person</td>\n",
       "      <td>A20 Assault and related offences</td>\n",
       "      <td>568</td>\n",
       "      <td>123600</td>\n",
       "      <td>5632521</td>\n",
       "    </tr>\n",
       "    <tr>\n",
       "      <th>20</th>\n",
       "      <td>2012</td>\n",
       "      <td>1 North West Metro</td>\n",
       "      <td>BANYULE</td>\n",
       "      <td>BANYULE</td>\n",
       "      <td>A Crimes against the person</td>\n",
       "      <td>A30 Sexual offences</td>\n",
       "      <td>132</td>\n",
       "      <td>123600</td>\n",
       "      <td>5632521</td>\n",
       "    </tr>\n",
       "    <tr>\n",
       "      <th>21</th>\n",
       "      <td>2012</td>\n",
       "      <td>1 North West Metro</td>\n",
       "      <td>BANYULE</td>\n",
       "      <td>BANYULE</td>\n",
       "      <td>A Crimes against the person</td>\n",
       "      <td>A40 Abduction and related offences</td>\n",
       "      <td>12</td>\n",
       "      <td>123600</td>\n",
       "      <td>5632521</td>\n",
       "    </tr>\n",
       "    <tr>\n",
       "      <th>22</th>\n",
       "      <td>2012</td>\n",
       "      <td>1 North West Metro</td>\n",
       "      <td>BANYULE</td>\n",
       "      <td>BANYULE</td>\n",
       "      <td>A Crimes against the person</td>\n",
       "      <td>A50 Robbery</td>\n",
       "      <td>46</td>\n",
       "      <td>123600</td>\n",
       "      <td>5632521</td>\n",
       "    </tr>\n",
       "  </tbody>\n",
       "</table>\n",
       "</div>"
      ],
      "text/plain": [
       "17 Apr - Mar reference period       Police Region Police Service Area  \\\n",
       "18                       2012  1 North West Metro             BANYULE   \n",
       "19                       2012  1 North West Metro             BANYULE   \n",
       "20                       2012  1 North West Metro             BANYULE   \n",
       "21                       2012  1 North West Metro             BANYULE   \n",
       "22                       2012  1 North West Metro             BANYULE   \n",
       "\n",
       "17 Local Government Area         CSA Offence Division  \\\n",
       "18               BANYULE  A Crimes against the person   \n",
       "19               BANYULE  A Crimes against the person   \n",
       "20               BANYULE  A Crimes against the person   \n",
       "21               BANYULE  A Crimes against the person   \n",
       "22               BANYULE  A Crimes against the person   \n",
       "\n",
       "17             CSA Offence Subdivision Offence Count LGA ERP Victorian ERP  \n",
       "18   A10 Homicide and related offences             4  123600       5632521  \n",
       "19    A20 Assault and related offences           568  123600       5632521  \n",
       "20                 A30 Sexual offences           132  123600       5632521  \n",
       "21  A40 Abduction and related offences            12  123600       5632521  \n",
       "22                         A50 Robbery            46  123600       5632521  "
      ]
     },
     "execution_count": 29,
     "metadata": {},
     "output_type": "execute_result"
    }
   ],
   "source": [
    "# inspecting sample of the variable\n",
    "crime.head()"
   ]
  },
  {
   "cell_type": "code",
   "execution_count": 30,
   "metadata": {},
   "outputs": [
    {
     "data": {
      "text/html": [
       "<div>\n",
       "<style scoped>\n",
       "    .dataframe tbody tr th:only-of-type {\n",
       "        vertical-align: middle;\n",
       "    }\n",
       "\n",
       "    .dataframe tbody tr th {\n",
       "        vertical-align: top;\n",
       "    }\n",
       "\n",
       "    .dataframe thead th {\n",
       "        text-align: right;\n",
       "    }\n",
       "</style>\n",
       "<table border=\"1\" class=\"dataframe\">\n",
       "  <thead>\n",
       "    <tr style=\"text-align: right;\">\n",
       "      <th></th>\n",
       "      <th>Local Government Area</th>\n",
       "      <th>Apr - Mar reference period</th>\n",
       "      <th>Offence Count</th>\n",
       "    </tr>\n",
       "  </thead>\n",
       "  <tbody>\n",
       "    <tr>\n",
       "      <th>0</th>\n",
       "      <td>ALPINE</td>\n",
       "      <td>2012</td>\n",
       "      <td>72</td>\n",
       "    </tr>\n",
       "    <tr>\n",
       "      <th>1</th>\n",
       "      <td>ALPINE</td>\n",
       "      <td>2013</td>\n",
       "      <td>78</td>\n",
       "    </tr>\n",
       "    <tr>\n",
       "      <th>2</th>\n",
       "      <td>ALPINE</td>\n",
       "      <td>2014</td>\n",
       "      <td>85</td>\n",
       "    </tr>\n",
       "    <tr>\n",
       "      <th>3</th>\n",
       "      <td>ALPINE</td>\n",
       "      <td>2015</td>\n",
       "      <td>99</td>\n",
       "    </tr>\n",
       "    <tr>\n",
       "      <th>4</th>\n",
       "      <td>ALPINE</td>\n",
       "      <td>2016</td>\n",
       "      <td>93</td>\n",
       "    </tr>\n",
       "  </tbody>\n",
       "</table>\n",
       "</div>"
      ],
      "text/plain": [
       "  Local Government Area  Apr - Mar reference period  Offence Count\n",
       "0                ALPINE                        2012             72\n",
       "1                ALPINE                        2013             78\n",
       "2                ALPINE                        2014             85\n",
       "3                ALPINE                        2015             99\n",
       "4                ALPINE                        2016             93"
      ]
     },
     "execution_count": 30,
     "metadata": {},
     "output_type": "execute_result"
    }
   ],
   "source": [
    "# extract information just about crime A.\n",
    "crime_A = crime[crime[\"CSA Offence Division\"] == 'A Crimes against the person']\n",
    "crime_A = crime_A.groupby([\"Local Government Area\",\"Apr - Mar reference period\"])[\"Offence Count\"].agg(sum)\n",
    "crime_A = crime_A.reset_index()\n",
    "crime_A.head()"
   ]
  },
  {
   "cell_type": "code",
   "execution_count": 31,
   "metadata": {},
   "outputs": [
    {
     "data": {
      "text/html": [
       "<div>\n",
       "<style scoped>\n",
       "    .dataframe tbody tr th:only-of-type {\n",
       "        vertical-align: middle;\n",
       "    }\n",
       "\n",
       "    .dataframe tbody tr th {\n",
       "        vertical-align: top;\n",
       "    }\n",
       "\n",
       "    .dataframe thead th {\n",
       "        text-align: right;\n",
       "    }\n",
       "</style>\n",
       "<table border=\"1\" class=\"dataframe\">\n",
       "  <thead>\n",
       "    <tr style=\"text-align: right;\">\n",
       "      <th></th>\n",
       "      <th>Local Government Area</th>\n",
       "      <th>Apr - Mar reference period</th>\n",
       "      <th>Offence Count</th>\n",
       "    </tr>\n",
       "  </thead>\n",
       "  <tbody>\n",
       "    <tr>\n",
       "      <th>0</th>\n",
       "      <td>ALPINE</td>\n",
       "      <td>2012</td>\n",
       "      <td>227</td>\n",
       "    </tr>\n",
       "    <tr>\n",
       "      <th>1</th>\n",
       "      <td>ALPINE</td>\n",
       "      <td>2013</td>\n",
       "      <td>215</td>\n",
       "    </tr>\n",
       "    <tr>\n",
       "      <th>2</th>\n",
       "      <td>ALPINE</td>\n",
       "      <td>2014</td>\n",
       "      <td>235</td>\n",
       "    </tr>\n",
       "    <tr>\n",
       "      <th>3</th>\n",
       "      <td>ALPINE</td>\n",
       "      <td>2015</td>\n",
       "      <td>306</td>\n",
       "    </tr>\n",
       "    <tr>\n",
       "      <th>4</th>\n",
       "      <td>ALPINE</td>\n",
       "      <td>2016</td>\n",
       "      <td>239</td>\n",
       "    </tr>\n",
       "  </tbody>\n",
       "</table>\n",
       "</div>"
      ],
      "text/plain": [
       "  Local Government Area  Apr - Mar reference period  Offence Count\n",
       "0                ALPINE                        2012            227\n",
       "1                ALPINE                        2013            215\n",
       "2                ALPINE                        2014            235\n",
       "3                ALPINE                        2015            306\n",
       "4                ALPINE                        2016            239"
      ]
     },
     "execution_count": 31,
     "metadata": {},
     "output_type": "execute_result"
    }
   ],
   "source": [
    "# extract information just about crime B.\n",
    "crime_B = crime[crime[\"CSA Offence Division\"] == 'B Property and deception offences']\n",
    "crime_B = crime_B.groupby([\"Local Government Area\",\"Apr - Mar reference period\"])[\"Offence Count\"].agg(sum)\n",
    "crime_B = crime_B.reset_index()\n",
    "crime_B.head()"
   ]
  },
  {
   "cell_type": "code",
   "execution_count": 32,
   "metadata": {},
   "outputs": [
    {
     "data": {
      "text/html": [
       "<div>\n",
       "<style scoped>\n",
       "    .dataframe tbody tr th:only-of-type {\n",
       "        vertical-align: middle;\n",
       "    }\n",
       "\n",
       "    .dataframe tbody tr th {\n",
       "        vertical-align: top;\n",
       "    }\n",
       "\n",
       "    .dataframe thead th {\n",
       "        text-align: right;\n",
       "    }\n",
       "</style>\n",
       "<table border=\"1\" class=\"dataframe\">\n",
       "  <thead>\n",
       "    <tr style=\"text-align: right;\">\n",
       "      <th></th>\n",
       "      <th>Local Government Area</th>\n",
       "      <th>Apr - Mar reference period</th>\n",
       "      <th>Offence Count</th>\n",
       "    </tr>\n",
       "  </thead>\n",
       "  <tbody>\n",
       "    <tr>\n",
       "      <th>0</th>\n",
       "      <td>ALPINE</td>\n",
       "      <td>2012</td>\n",
       "      <td>37</td>\n",
       "    </tr>\n",
       "    <tr>\n",
       "      <th>1</th>\n",
       "      <td>ALPINE</td>\n",
       "      <td>2013</td>\n",
       "      <td>41</td>\n",
       "    </tr>\n",
       "    <tr>\n",
       "      <th>2</th>\n",
       "      <td>ALPINE</td>\n",
       "      <td>2014</td>\n",
       "      <td>28</td>\n",
       "    </tr>\n",
       "    <tr>\n",
       "      <th>3</th>\n",
       "      <td>ALPINE</td>\n",
       "      <td>2015</td>\n",
       "      <td>42</td>\n",
       "    </tr>\n",
       "    <tr>\n",
       "      <th>4</th>\n",
       "      <td>ALPINE</td>\n",
       "      <td>2016</td>\n",
       "      <td>40</td>\n",
       "    </tr>\n",
       "  </tbody>\n",
       "</table>\n",
       "</div>"
      ],
      "text/plain": [
       "  Local Government Area  Apr - Mar reference period  Offence Count\n",
       "0                ALPINE                        2012             37\n",
       "1                ALPINE                        2013             41\n",
       "2                ALPINE                        2014             28\n",
       "3                ALPINE                        2015             42\n",
       "4                ALPINE                        2016             40"
      ]
     },
     "execution_count": 32,
     "metadata": {},
     "output_type": "execute_result"
    }
   ],
   "source": [
    "# extract information just about crime C.\n",
    "crime_C = crime[crime[\"CSA Offence Division\"] == 'C Drug offences']\n",
    "crime_C = crime_C.groupby([\"Local Government Area\",\"Apr - Mar reference period\"])[\"Offence Count\"].agg(sum)\n",
    "crime_C = crime_C.reset_index()\n",
    "crime_C.head()"
   ]
  },
  {
   "cell_type": "code",
   "execution_count": 33,
   "metadata": {},
   "outputs": [],
   "source": [
    "# calculating the average values for each crime type based on past 3 years\n",
    "data['crime_A_average'] = -1\n",
    "data['crime_B_average'] = -1\n",
    "data['crime_C_average'] = -1\n",
    "for index,row in data.iterrows():\n",
    "    temp_A = crime_A[((crime_A[\"Apr - Mar reference period\"]==row['Year']-1)| (crime_A[\"Apr - Mar reference period\"]==row['Year']-2)| (crime_A[\"Apr - Mar reference period\"]==row['Year']-3)) & (crime_A['Local Government Area'] == row['council'])] #area - check if council or area\n",
    "    temp_B = crime_B[((crime_B[\"Apr - Mar reference period\"]==row['Year']-1)| (crime_B[\"Apr - Mar reference period\"]==row['Year']-2)| (crime_B[\"Apr - Mar reference period\"]==row['Year']-3)) & (crime_B['Local Government Area'] == row['council'])]\n",
    "    temp_C = crime_C[((crime_C[\"Apr - Mar reference period\"]==row['Year']-1)| (crime_C[\"Apr - Mar reference period\"]==row['Year']-2)| (crime_C[\"Apr - Mar reference period\"]==row['Year']-3)) & (crime_C['Local Government Area'] == row['council'])]\n",
    "    \n",
    "    # store the values accordingly.\n",
    "    data.loc[index,'crime_A_average'] = temp_A[\"Offence Count\"].mean()\n",
    "    data.loc[index,'crime_B_average'] = temp_B[\"Offence Count\"].mean()\n",
    "    data.loc[index,'crime_C_average'] = temp_C[\"Offence Count\"].mean()"
   ]
  },
  {
   "cell_type": "code",
   "execution_count": 35,
   "metadata": {},
   "outputs": [
    {
     "data": {
      "text/html": [
       "<div>\n",
       "<style scoped>\n",
       "    .dataframe tbody tr th:only-of-type {\n",
       "        vertical-align: middle;\n",
       "    }\n",
       "\n",
       "    .dataframe tbody tr th {\n",
       "        vertical-align: top;\n",
       "    }\n",
       "\n",
       "    .dataframe thead th {\n",
       "        text-align: right;\n",
       "    }\n",
       "</style>\n",
       "<table border=\"1\" class=\"dataframe\">\n",
       "  <thead>\n",
       "    <tr style=\"text-align: right;\">\n",
       "      <th></th>\n",
       "      <th>ID</th>\n",
       "      <th>Address</th>\n",
       "      <th>Rooms</th>\n",
       "      <th>Type</th>\n",
       "      <th>Price</th>\n",
       "      <th>Date</th>\n",
       "      <th>Bathroom</th>\n",
       "      <th>Car</th>\n",
       "      <th>LandSize</th>\n",
       "      <th>Age</th>\n",
       "      <th>Latitude</th>\n",
       "      <th>Longitude</th>\n",
       "      <th>Suburb</th>\n",
       "      <th>train_station_id</th>\n",
       "      <th>distance_to_train_station</th>\n",
       "      <th>travel_min_to_CBD</th>\n",
       "      <th>over_priced?</th>\n",
       "      <th>crime_A_average</th>\n",
       "      <th>crime_B_average</th>\n",
       "      <th>crime_C_average</th>\n",
       "    </tr>\n",
       "  </thead>\n",
       "  <tbody>\n",
       "    <tr>\n",
       "      <th>0</th>\n",
       "      <td>ID229233544</td>\n",
       "      <td>21 Ryder St</td>\n",
       "      <td>3</td>\n",
       "      <td>h</td>\n",
       "      <td>810000.0</td>\n",
       "      <td>8/04/2017</td>\n",
       "      <td>2.0</td>\n",
       "      <td>1.0</td>\n",
       "      <td>297.0</td>\n",
       "      <td>64.0</td>\n",
       "      <td>-37.73800</td>\n",
       "      <td>144.88650</td>\n",
       "      <td>NIDDRIE</td>\n",
       "      <td>22253</td>\n",
       "      <td>3.294397</td>\n",
       "      <td>18.333333</td>\n",
       "      <td>False</td>\n",
       "      <td>84.333333</td>\n",
       "      <td>293.333333</td>\n",
       "      <td>23.000000</td>\n",
       "    </tr>\n",
       "    <tr>\n",
       "      <th>1</th>\n",
       "      <td>ID857095596</td>\n",
       "      <td>1/142 Shields St</td>\n",
       "      <td>1</td>\n",
       "      <td>u</td>\n",
       "      <td>280000.0</td>\n",
       "      <td>4/03/2017</td>\n",
       "      <td>1.0</td>\n",
       "      <td>1.0</td>\n",
       "      <td>0.0</td>\n",
       "      <td>49.0</td>\n",
       "      <td>-37.78390</td>\n",
       "      <td>144.93470</td>\n",
       "      <td>FLEMINGTON</td>\n",
       "      <td>22239</td>\n",
       "      <td>2.565517</td>\n",
       "      <td>7.000000</td>\n",
       "      <td>False</td>\n",
       "      <td>2047.666667</td>\n",
       "      <td>9171.000000</td>\n",
       "      <td>742.333333</td>\n",
       "    </tr>\n",
       "    <tr>\n",
       "      <th>2</th>\n",
       "      <td>ID417415267</td>\n",
       "      <td>6 MacKenzie St</td>\n",
       "      <td>3</td>\n",
       "      <td>h</td>\n",
       "      <td>718500.0</td>\n",
       "      <td>28/05/2016</td>\n",
       "      <td>1.0</td>\n",
       "      <td>6.0</td>\n",
       "      <td>807.0</td>\n",
       "      <td>44.0</td>\n",
       "      <td>-37.70400</td>\n",
       "      <td>144.98640</td>\n",
       "      <td>RESERVOIR</td>\n",
       "      <td>20009</td>\n",
       "      <td>2.081589</td>\n",
       "      <td>35.200000</td>\n",
       "      <td>False</td>\n",
       "      <td>824.666667</td>\n",
       "      <td>1890.333333</td>\n",
       "      <td>159.333333</td>\n",
       "    </tr>\n",
       "    <tr>\n",
       "      <th>3</th>\n",
       "      <td>ID156702797</td>\n",
       "      <td>12 Ralph St</td>\n",
       "      <td>4</td>\n",
       "      <td>h</td>\n",
       "      <td>1300000.0</td>\n",
       "      <td>23/09/2017</td>\n",
       "      <td>2.0</td>\n",
       "      <td>3.0</td>\n",
       "      <td>650.0</td>\n",
       "      <td>59.0</td>\n",
       "      <td>-37.77352</td>\n",
       "      <td>145.09844</td>\n",
       "      <td>BULLEEN</td>\n",
       "      <td>20015</td>\n",
       "      <td>8.982660</td>\n",
       "      <td>23.300000</td>\n",
       "      <td>False</td>\n",
       "      <td>941.333333</td>\n",
       "      <td>5813.000000</td>\n",
       "      <td>575.666667</td>\n",
       "    </tr>\n",
       "    <tr>\n",
       "      <th>4</th>\n",
       "      <td>ID792883992</td>\n",
       "      <td>392 Station St</td>\n",
       "      <td>2</td>\n",
       "      <td>h</td>\n",
       "      <td>2400000.0</td>\n",
       "      <td>12/11/2016</td>\n",
       "      <td>2.0</td>\n",
       "      <td>0.0</td>\n",
       "      <td>413.0</td>\n",
       "      <td>119.0</td>\n",
       "      <td>-37.78750</td>\n",
       "      <td>144.97590</td>\n",
       "      <td>CARLTON NORTH</td>\n",
       "      <td>20019</td>\n",
       "      <td>1.528471</td>\n",
       "      <td>18.300000</td>\n",
       "      <td>False</td>\n",
       "      <td>3703.666667</td>\n",
       "      <td>18944.000000</td>\n",
       "      <td>2039.333333</td>\n",
       "    </tr>\n",
       "  </tbody>\n",
       "</table>\n",
       "</div>"
      ],
      "text/plain": [
       "            ID           Address  Rooms Type      Price        Date  Bathroom  \\\n",
       "0  ID229233544       21 Ryder St      3    h   810000.0   8/04/2017       2.0   \n",
       "1  ID857095596  1/142 Shields St      1    u   280000.0   4/03/2017       1.0   \n",
       "2  ID417415267    6 MacKenzie St      3    h   718500.0  28/05/2016       1.0   \n",
       "3  ID156702797       12 Ralph St      4    h  1300000.0  23/09/2017       2.0   \n",
       "4  ID792883992    392 Station St      2    h  2400000.0  12/11/2016       2.0   \n",
       "\n",
       "   Car  LandSize    Age  Latitude  Longitude         Suburb  train_station_id  \\\n",
       "0  1.0     297.0   64.0 -37.73800  144.88650        NIDDRIE             22253   \n",
       "1  1.0       0.0   49.0 -37.78390  144.93470     FLEMINGTON             22239   \n",
       "2  6.0     807.0   44.0 -37.70400  144.98640      RESERVOIR             20009   \n",
       "3  3.0     650.0   59.0 -37.77352  145.09844        BULLEEN             20015   \n",
       "4  0.0     413.0  119.0 -37.78750  144.97590  CARLTON NORTH             20019   \n",
       "\n",
       "   distance_to_train_station  travel_min_to_CBD  over_priced?  \\\n",
       "0                   3.294397          18.333333         False   \n",
       "1                   2.565517           7.000000         False   \n",
       "2                   2.081589          35.200000         False   \n",
       "3                   8.982660          23.300000         False   \n",
       "4                   1.528471          18.300000         False   \n",
       "\n",
       "   crime_A_average  crime_B_average  crime_C_average  \n",
       "0        84.333333       293.333333        23.000000  \n",
       "1      2047.666667      9171.000000       742.333333  \n",
       "2       824.666667      1890.333333       159.333333  \n",
       "3       941.333333      5813.000000       575.666667  \n",
       "4      3703.666667     18944.000000      2039.333333  "
      ]
     },
     "execution_count": 35,
     "metadata": {},
     "output_type": "execute_result"
    }
   ],
   "source": [
    "# drop all the excess columns\n",
    "data.drop([\"Temp\",\"stop_id\",\"council\",\"Year\"],axis=1,inplace=True)\n",
    "data = data.rename({'Landsize': 'LandSize', 'Lattitude': 'Latitude','Longtitude':'Longitude'}, axis=1)\n",
    "data.head()"
   ]
  },
  {
   "cell_type": "code",
   "execution_count": 65,
   "metadata": {},
   "outputs": [],
   "source": [
    "# write the data into an output csv.\n",
    "\n",
    "data.to_csv(\"29498724_solution.csv\")"
   ]
  },
  {
   "cell_type": "markdown",
   "metadata": {},
   "source": [
    "## 4. Data reshaping <a class=\"anchor\" id=\"sec_4\"></a>\n",
    "\n",
    "This task is to build a linear model and study the effect of different normalisation and transformation methods on the predictors for melbourne housing price data."
   ]
  },
  {
   "cell_type": "code",
   "execution_count": 37,
   "metadata": {},
   "outputs": [],
   "source": [
    "# extracting the 4 columns mentioned to perform transforming and scaling along with the target variable \"Price\"\n",
    "model_data = data[['Rooms', 'crime_C_average','travel_min_to_CBD','Age','Price']]\n",
    "\n",
    "# splitting train and test data\n",
    "x_train, x_test, y_train, y_test = train_test_split(model_data[['Rooms', 'crime_C_average', 'travel_min_to_CBD','Age']],\n",
    "                                                    model_data.Price,test_size=0.2,random_state=1)"
   ]
  },
  {
   "cell_type": "code",
   "execution_count": 38,
   "metadata": {},
   "outputs": [
    {
     "data": {
      "text/plain": [
       "LinearRegression(copy_X=True, fit_intercept=True, n_jobs=1, normalize=False)"
      ]
     },
     "execution_count": 38,
     "metadata": {},
     "output_type": "execute_result"
    }
   ],
   "source": [
    "# training linear regression model\n",
    "model = LinearRegression()\n",
    "model.fit(x_train, y_train)"
   ]
  },
  {
   "cell_type": "code",
   "execution_count": 39,
   "metadata": {},
   "outputs": [
    {
     "data": {
      "text/plain": [
       "<matplotlib.axes._subplots.AxesSubplot at 0x1a26b4e588>"
      ]
     },
     "execution_count": 39,
     "metadata": {},
     "output_type": "execute_result"
    },
    {
     "data": {
      "image/png": "[encoded data removed]",
      "text/plain": [
       "<matplotlib.figure.Figure at 0x1a26ac8d30>"
      ]
     },
     "metadata": {},
     "output_type": "display_data"
    }
   ],
   "source": [
    "model_data['Price'].plot(kind='hist',bins=50,title='Histogram of Price')"
   ]
  },
  {
   "cell_type": "code",
   "execution_count": 40,
   "metadata": {},
   "outputs": [
    {
     "name": "stdout",
     "output_type": "stream",
     "text": [
      "R2 score :  0.3099222565922032\n"
     ]
    }
   ],
   "source": [
    "# Determine the R square value of predicted value\n",
    "print(\"R2 score : \",model.score(x_test, y_test))"
   ]
  },
  {
   "cell_type": "markdown",
   "metadata": {},
   "source": [
    "### 4.1 Perform Normalisations\n",
    "\n",
    "#### 4.1.1 Z score"
   ]
  },
  {
   "cell_type": "code",
   "execution_count": 41,
   "metadata": {},
   "outputs": [
    {
     "data": {
      "text/html": [
       "<div>\n",
       "<style scoped>\n",
       "    .dataframe tbody tr th:only-of-type {\n",
       "        vertical-align: middle;\n",
       "    }\n",
       "\n",
       "    .dataframe tbody tr th {\n",
       "        vertical-align: top;\n",
       "    }\n",
       "\n",
       "    .dataframe thead th {\n",
       "        text-align: right;\n",
       "    }\n",
       "</style>\n",
       "<table border=\"1\" class=\"dataframe\">\n",
       "  <thead>\n",
       "    <tr style=\"text-align: right;\">\n",
       "      <th></th>\n",
       "      <th>Rooms</th>\n",
       "      <th>crime_C_average</th>\n",
       "      <th>travel_min_to_CBD</th>\n",
       "      <th>Age</th>\n",
       "      <th>Price</th>\n",
       "    </tr>\n",
       "  </thead>\n",
       "  <tbody>\n",
       "    <tr>\n",
       "      <th>count</th>\n",
       "      <td>677.000000</td>\n",
       "      <td>677.000000</td>\n",
       "      <td>677.000000</td>\n",
       "      <td>677.000000</td>\n",
       "      <td>6.770000e+02</td>\n",
       "    </tr>\n",
       "    <tr>\n",
       "      <th>mean</th>\n",
       "      <td>2.923191</td>\n",
       "      <td>450.655342</td>\n",
       "      <td>20.996613</td>\n",
       "      <td>56.903988</td>\n",
       "      <td>1.071992e+06</td>\n",
       "    </tr>\n",
       "    <tr>\n",
       "      <th>std</th>\n",
       "      <td>0.932647</td>\n",
       "      <td>413.564412</td>\n",
       "      <td>10.933039</td>\n",
       "      <td>36.975619</td>\n",
       "      <td>6.040169e+05</td>\n",
       "    </tr>\n",
       "    <tr>\n",
       "      <th>min</th>\n",
       "      <td>1.000000</td>\n",
       "      <td>1.000000</td>\n",
       "      <td>0.000000</td>\n",
       "      <td>2.000000</td>\n",
       "      <td>2.500000e+05</td>\n",
       "    </tr>\n",
       "    <tr>\n",
       "      <th>25%</th>\n",
       "      <td>2.000000</td>\n",
       "      <td>159.333333</td>\n",
       "      <td>16.000000</td>\n",
       "      <td>25.000000</td>\n",
       "      <td>6.500000e+05</td>\n",
       "    </tr>\n",
       "    <tr>\n",
       "      <th>50%</th>\n",
       "      <td>3.000000</td>\n",
       "      <td>338.333333</td>\n",
       "      <td>20.000000</td>\n",
       "      <td>49.000000</td>\n",
       "      <td>8.950000e+05</td>\n",
       "    </tr>\n",
       "    <tr>\n",
       "      <th>75%</th>\n",
       "      <td>3.000000</td>\n",
       "      <td>575.666667</td>\n",
       "      <td>24.200000</td>\n",
       "      <td>81.000000</td>\n",
       "      <td>1.352000e+06</td>\n",
       "    </tr>\n",
       "    <tr>\n",
       "      <th>max</th>\n",
       "      <td>7.000000</td>\n",
       "      <td>2042.333333</td>\n",
       "      <td>66.000000</td>\n",
       "      <td>159.000000</td>\n",
       "      <td>4.900000e+06</td>\n",
       "    </tr>\n",
       "  </tbody>\n",
       "</table>\n",
       "</div>"
      ],
      "text/plain": [
       "            Rooms  crime_C_average  travel_min_to_CBD         Age  \\\n",
       "count  677.000000       677.000000         677.000000  677.000000   \n",
       "mean     2.923191       450.655342          20.996613   56.903988   \n",
       "std      0.932647       413.564412          10.933039   36.975619   \n",
       "min      1.000000         1.000000           0.000000    2.000000   \n",
       "25%      2.000000       159.333333          16.000000   25.000000   \n",
       "50%      3.000000       338.333333          20.000000   49.000000   \n",
       "75%      3.000000       575.666667          24.200000   81.000000   \n",
       "max      7.000000      2042.333333          66.000000  159.000000   \n",
       "\n",
       "              Price  \n",
       "count  6.770000e+02  \n",
       "mean   1.071992e+06  \n",
       "std    6.040169e+05  \n",
       "min    2.500000e+05  \n",
       "25%    6.500000e+05  \n",
       "50%    8.950000e+05  \n",
       "75%    1.352000e+06  \n",
       "max    4.900000e+06  "
      ]
     },
     "execution_count": 41,
     "metadata": {},
     "output_type": "execute_result"
    }
   ],
   "source": [
    "model_data.describe()"
   ]
  },
  {
   "cell_type": "code",
   "execution_count": 42,
   "metadata": {},
   "outputs": [
    {
     "data": {
      "text/plain": [
       "array([[ 0.08241726, -1.03483648, -0.24377937,  0.19205246],\n",
       "       [-2.06360136,  0.70579973, -1.28115911, -0.21392021],\n",
       "       [ 0.08241726, -0.70493833,  1.30008577, -0.34924443],\n",
       "       ...,\n",
       "       [ 1.15542657, -0.70171194, -0.52143101, -1.21531945],\n",
       "       [ 1.15542657,  0.17505894, -0.52143101, -0.07859599],\n",
       "       [-0.99059205, -0.89206882, -0.70449802, -1.02586554]])"
      ]
     },
     "execution_count": 42,
     "metadata": {},
     "output_type": "execute_result"
    }
   ],
   "source": [
    "# performing z score transformation on the predictors\n",
    "std_scale = preprocessing.StandardScaler().fit(model_data[['Rooms', 'crime_C_average','travel_min_to_CBD','Age']])\n",
    "df_std = std_scale.transform(model_data[['Rooms', 'crime_C_average','travel_min_to_CBD','Age']])\n",
    "df_std"
   ]
  },
  {
   "cell_type": "code",
   "execution_count": 43,
   "metadata": {},
   "outputs": [
    {
     "name": "stderr",
     "output_type": "stream",
     "text": [
      "/Users/Rajath/anaconda3/lib/python3.6/site-packages/ipykernel_launcher.py:2: SettingWithCopyWarning: \n",
      "A value is trying to be set on a copy of a slice from a DataFrame.\n",
      "Try using .loc[row_indexer,col_indexer] = value instead\n",
      "\n",
      "See the caveats in the documentation: http://pandas.pydata.org/pandas-docs/stable/indexing.html#indexing-view-versus-copy\n",
      "  \n",
      "/Users/Rajath/anaconda3/lib/python3.6/site-packages/ipykernel_launcher.py:3: SettingWithCopyWarning: \n",
      "A value is trying to be set on a copy of a slice from a DataFrame.\n",
      "Try using .loc[row_indexer,col_indexer] = value instead\n",
      "\n",
      "See the caveats in the documentation: http://pandas.pydata.org/pandas-docs/stable/indexing.html#indexing-view-versus-copy\n",
      "  This is separate from the ipykernel package so we can avoid doing imports until\n",
      "/Users/Rajath/anaconda3/lib/python3.6/site-packages/ipykernel_launcher.py:4: SettingWithCopyWarning: \n",
      "A value is trying to be set on a copy of a slice from a DataFrame.\n",
      "Try using .loc[row_indexer,col_indexer] = value instead\n",
      "\n",
      "See the caveats in the documentation: http://pandas.pydata.org/pandas-docs/stable/indexing.html#indexing-view-versus-copy\n",
      "  after removing the cwd from sys.path.\n",
      "/Users/Rajath/anaconda3/lib/python3.6/site-packages/ipykernel_launcher.py:5: SettingWithCopyWarning: \n",
      "A value is trying to be set on a copy of a slice from a DataFrame.\n",
      "Try using .loc[row_indexer,col_indexer] = value instead\n",
      "\n",
      "See the caveats in the documentation: http://pandas.pydata.org/pandas-docs/stable/indexing.html#indexing-view-versus-copy\n",
      "  \"\"\"\n"
     ]
    }
   ],
   "source": [
    "# appending normalized attributes into the df\n",
    "model_data['rooms_norm'] = df_std[:,0]\n",
    "model_data['crime_norm'] = df_std[:,1]\n",
    "model_data['travel_time_norm'] = df_std[:,2]\n",
    "model_data['age_norm'] = df_std[:,3]"
   ]
  },
  {
   "cell_type": "code",
   "execution_count": 44,
   "metadata": {},
   "outputs": [
    {
     "data": {
      "text/html": [
       "<div>\n",
       "<style scoped>\n",
       "    .dataframe tbody tr th:only-of-type {\n",
       "        vertical-align: middle;\n",
       "    }\n",
       "\n",
       "    .dataframe tbody tr th {\n",
       "        vertical-align: top;\n",
       "    }\n",
       "\n",
       "    .dataframe thead th {\n",
       "        text-align: right;\n",
       "    }\n",
       "</style>\n",
       "<table border=\"1\" class=\"dataframe\">\n",
       "  <thead>\n",
       "    <tr style=\"text-align: right;\">\n",
       "      <th></th>\n",
       "      <th>Rooms</th>\n",
       "      <th>crime_C_average</th>\n",
       "      <th>travel_min_to_CBD</th>\n",
       "      <th>Age</th>\n",
       "      <th>Price</th>\n",
       "      <th>rooms_norm</th>\n",
       "      <th>crime_norm</th>\n",
       "      <th>travel_time_norm</th>\n",
       "      <th>age_norm</th>\n",
       "    </tr>\n",
       "  </thead>\n",
       "  <tbody>\n",
       "    <tr>\n",
       "      <th>count</th>\n",
       "      <td>677.000000</td>\n",
       "      <td>677.000000</td>\n",
       "      <td>677.000000</td>\n",
       "      <td>677.000000</td>\n",
       "      <td>6.770000e+02</td>\n",
       "      <td>6.770000e+02</td>\n",
       "      <td>6.770000e+02</td>\n",
       "      <td>6.770000e+02</td>\n",
       "      <td>6.770000e+02</td>\n",
       "    </tr>\n",
       "    <tr>\n",
       "      <th>mean</th>\n",
       "      <td>2.923191</td>\n",
       "      <td>450.655342</td>\n",
       "      <td>20.996613</td>\n",
       "      <td>56.903988</td>\n",
       "      <td>1.071992e+06</td>\n",
       "      <td>7.592810e-17</td>\n",
       "      <td>-2.295882e-17</td>\n",
       "      <td>1.666154e-16</td>\n",
       "      <td>-1.738311e-17</td>\n",
       "    </tr>\n",
       "    <tr>\n",
       "      <th>std</th>\n",
       "      <td>0.932647</td>\n",
       "      <td>413.564412</td>\n",
       "      <td>10.933039</td>\n",
       "      <td>36.975619</td>\n",
       "      <td>6.040169e+05</td>\n",
       "      <td>1.000739e+00</td>\n",
       "      <td>1.000739e+00</td>\n",
       "      <td>1.000739e+00</td>\n",
       "      <td>1.000739e+00</td>\n",
       "    </tr>\n",
       "    <tr>\n",
       "      <th>min</th>\n",
       "      <td>1.000000</td>\n",
       "      <td>1.000000</td>\n",
       "      <td>0.000000</td>\n",
       "      <td>2.000000</td>\n",
       "      <td>2.500000e+05</td>\n",
       "      <td>-2.063601e+00</td>\n",
       "      <td>-1.088072e+00</td>\n",
       "      <td>-1.921894e+00</td>\n",
       "      <td>-1.485968e+00</td>\n",
       "    </tr>\n",
       "    <tr>\n",
       "      <th>25%</th>\n",
       "      <td>2.000000</td>\n",
       "      <td>159.333333</td>\n",
       "      <td>16.000000</td>\n",
       "      <td>25.000000</td>\n",
       "      <td>6.500000e+05</td>\n",
       "      <td>-9.905920e-01</td>\n",
       "      <td>-7.049383e-01</td>\n",
       "      <td>-4.573576e-01</td>\n",
       "      <td>-8.634765e-01</td>\n",
       "    </tr>\n",
       "    <tr>\n",
       "      <th>50%</th>\n",
       "      <td>3.000000</td>\n",
       "      <td>338.333333</td>\n",
       "      <td>20.000000</td>\n",
       "      <td>49.000000</td>\n",
       "      <td>8.950000e+05</td>\n",
       "      <td>8.241726e-02</td>\n",
       "      <td>-2.717958e-01</td>\n",
       "      <td>-9.122353e-02</td>\n",
       "      <td>-2.139202e-01</td>\n",
       "    </tr>\n",
       "    <tr>\n",
       "      <th>75%</th>\n",
       "      <td>3.000000</td>\n",
       "      <td>575.666667</td>\n",
       "      <td>24.200000</td>\n",
       "      <td>81.000000</td>\n",
       "      <td>1.352000e+06</td>\n",
       "      <td>8.241726e-02</td>\n",
       "      <td>3.025013e-01</td>\n",
       "      <td>2.932172e-01</td>\n",
       "      <td>6.521548e-01</td>\n",
       "    </tr>\n",
       "    <tr>\n",
       "      <th>max</th>\n",
       "      <td>7.000000</td>\n",
       "      <td>2042.333333</td>\n",
       "      <td>66.000000</td>\n",
       "      <td>159.000000</td>\n",
       "      <td>4.900000e+06</td>\n",
       "      <td>4.374454e+00</td>\n",
       "      <td>3.851528e+00</td>\n",
       "      <td>4.119318e+00</td>\n",
       "      <td>2.763213e+00</td>\n",
       "    </tr>\n",
       "  </tbody>\n",
       "</table>\n",
       "</div>"
      ],
      "text/plain": [
       "            Rooms  crime_C_average  travel_min_to_CBD         Age  \\\n",
       "count  677.000000       677.000000         677.000000  677.000000   \n",
       "mean     2.923191       450.655342          20.996613   56.903988   \n",
       "std      0.932647       413.564412          10.933039   36.975619   \n",
       "min      1.000000         1.000000           0.000000    2.000000   \n",
       "25%      2.000000       159.333333          16.000000   25.000000   \n",
       "50%      3.000000       338.333333          20.000000   49.000000   \n",
       "75%      3.000000       575.666667          24.200000   81.000000   \n",
       "max      7.000000      2042.333333          66.000000  159.000000   \n",
       "\n",
       "              Price    rooms_norm    crime_norm  travel_time_norm  \\\n",
       "count  6.770000e+02  6.770000e+02  6.770000e+02      6.770000e+02   \n",
       "mean   1.071992e+06  7.592810e-17 -2.295882e-17      1.666154e-16   \n",
       "std    6.040169e+05  1.000739e+00  1.000739e+00      1.000739e+00   \n",
       "min    2.500000e+05 -2.063601e+00 -1.088072e+00     -1.921894e+00   \n",
       "25%    6.500000e+05 -9.905920e-01 -7.049383e-01     -4.573576e-01   \n",
       "50%    8.950000e+05  8.241726e-02 -2.717958e-01     -9.122353e-02   \n",
       "75%    1.352000e+06  8.241726e-02  3.025013e-01      2.932172e-01   \n",
       "max    4.900000e+06  4.374454e+00  3.851528e+00      4.119318e+00   \n",
       "\n",
       "           age_norm  \n",
       "count  6.770000e+02  \n",
       "mean  -1.738311e-17  \n",
       "std    1.000739e+00  \n",
       "min   -1.485968e+00  \n",
       "25%   -8.634765e-01  \n",
       "50%   -2.139202e-01  \n",
       "75%    6.521548e-01  \n",
       "max    2.763213e+00  "
      ]
     },
     "execution_count": 44,
     "metadata": {},
     "output_type": "execute_result"
    }
   ],
   "source": [
    "# notice that the std is  close to 1 and mean is close to 0.\n",
    "model_data.describe() # check that μ = 0 and σ = 1... approx"
   ]
  },
  {
   "cell_type": "code",
   "execution_count": 45,
   "metadata": {},
   "outputs": [
    {
     "name": "stdout",
     "output_type": "stream",
     "text": [
      "R2 score :  0.3099222565922035\n"
     ]
    }
   ],
   "source": [
    "# split train and test on the normalized predictors\n",
    "x_train, x_test, y_train, y_test = train_test_split(model_data[['rooms_norm', 'crime_norm', \n",
    "                                                                'travel_time_norm','age_norm']],\n",
    "                                                    model_data.Price,test_size=0.2,random_state=1)\n",
    "\n",
    "# fit the finear model to determine change.\n",
    "model = LinearRegression()\n",
    "model.fit(x_train, y_train)\n",
    "print(\"R2 score : \",model.score(x_test, y_test))"
   ]
  },
  {
   "cell_type": "code",
   "execution_count": 46,
   "metadata": {},
   "outputs": [
    {
     "data": {
      "text/plain": [
       "<matplotlib.axes._subplots.AxesSubplot at 0x1a27fab080>"
      ]
     },
     "execution_count": 46,
     "metadata": {},
     "output_type": "execute_result"
    },
    {
     "data": {
      "image/png": "[encoded data removed]",
      "text/plain": [
       "<matplotlib.figure.Figure at 0x1a28153e48>"
      ]
     },
     "metadata": {},
     "output_type": "display_data"
    },
    {
     "data": {
      "image/png": "[encoded data removed]",
      "text/plain": [
       "<matplotlib.figure.Figure at 0x1a281c13c8>"
      ]
     },
     "metadata": {},
     "output_type": "display_data"
    }
   ],
   "source": [
    "%matplotlib inline\n",
    "model_data[['Rooms', 'crime_C_average','travel_min_to_CBD','Age']].plot()\n",
    "model_data[['rooms_norm', 'crime_norm','travel_time_norm','age_norm']].plot()"
   ]
  },
  {
   "cell_type": "markdown",
   "metadata": {},
   "source": [
    "We can notice that all the predictors have been normalised around the value 0.<br>\n",
    "However,\n",
    "There is no difference in R square value of the model compared to the initial one because the data and the variance remains the same even after normalisation  \n",
    "\n",
    "\n",
    "#### 4.1.2 MinMax normalisation"
   ]
  },
  {
   "cell_type": "code",
   "execution_count": 47,
   "metadata": {},
   "outputs": [
    {
     "data": {
      "text/plain": [
       "array([[0.33333333, 0.01077727, 0.27777778, 0.39490446],\n",
       "       [0.        , 0.36316133, 0.10606061, 0.29936306],\n",
       "       [0.33333333, 0.07756368, 0.53333333, 0.26751592],\n",
       "       ...,\n",
       "       [0.5       , 0.07821685, 0.23181818, 0.06369427],\n",
       "       [0.5       , 0.25571522, 0.23181818, 0.33121019],\n",
       "       [0.16666667, 0.03967995, 0.20151515, 0.10828025]])"
      ]
     },
     "execution_count": 47,
     "metadata": {},
     "output_type": "execute_result"
    }
   ],
   "source": [
    "# Performing minmax scaling on the data\n",
    "minmax_scale = preprocessing.MinMaxScaler().fit(model_data\n",
    "                                                [['Rooms', 'crime_C_average','travel_min_to_CBD','Age']])\n",
    "df_minmax = minmax_scale.transform(model_data[['Rooms', 'crime_C_average','travel_min_to_CBD','Age']]) \n",
    "df_minmax"
   ]
  },
  {
   "cell_type": "code",
   "execution_count": 48,
   "metadata": {},
   "outputs": [
    {
     "name": "stderr",
     "output_type": "stream",
     "text": [
      "/Users/Rajath/anaconda3/lib/python3.6/site-packages/ipykernel_launcher.py:2: SettingWithCopyWarning: \n",
      "A value is trying to be set on a copy of a slice from a DataFrame.\n",
      "Try using .loc[row_indexer,col_indexer] = value instead\n",
      "\n",
      "See the caveats in the documentation: http://pandas.pydata.org/pandas-docs/stable/indexing.html#indexing-view-versus-copy\n",
      "  \n",
      "/Users/Rajath/anaconda3/lib/python3.6/site-packages/ipykernel_launcher.py:3: SettingWithCopyWarning: \n",
      "A value is trying to be set on a copy of a slice from a DataFrame.\n",
      "Try using .loc[row_indexer,col_indexer] = value instead\n",
      "\n",
      "See the caveats in the documentation: http://pandas.pydata.org/pandas-docs/stable/indexing.html#indexing-view-versus-copy\n",
      "  This is separate from the ipykernel package so we can avoid doing imports until\n",
      "/Users/Rajath/anaconda3/lib/python3.6/site-packages/ipykernel_launcher.py:4: SettingWithCopyWarning: \n",
      "A value is trying to be set on a copy of a slice from a DataFrame.\n",
      "Try using .loc[row_indexer,col_indexer] = value instead\n",
      "\n",
      "See the caveats in the documentation: http://pandas.pydata.org/pandas-docs/stable/indexing.html#indexing-view-versus-copy\n",
      "  after removing the cwd from sys.path.\n",
      "/Users/Rajath/anaconda3/lib/python3.6/site-packages/ipykernel_launcher.py:5: SettingWithCopyWarning: \n",
      "A value is trying to be set on a copy of a slice from a DataFrame.\n",
      "Try using .loc[row_indexer,col_indexer] = value instead\n",
      "\n",
      "See the caveats in the documentation: http://pandas.pydata.org/pandas-docs/stable/indexing.html#indexing-view-versus-copy\n",
      "  \"\"\"\n"
     ]
    }
   ],
   "source": [
    "# appending normalized attributes into the df\n",
    "model_data['rooms_minmax'] = df_minmax[:,0]\n",
    "model_data['crime_minmax'] = df_minmax[:,1]\n",
    "model_data['travel_time_minmax'] = df_minmax[:,2]\n",
    "model_data['age_minmax'] = df_minmax[:,3]"
   ]
  },
  {
   "cell_type": "code",
   "execution_count": 49,
   "metadata": {},
   "outputs": [
    {
     "data": {
      "text/html": [
       "<div>\n",
       "<style scoped>\n",
       "    .dataframe tbody tr th:only-of-type {\n",
       "        vertical-align: middle;\n",
       "    }\n",
       "\n",
       "    .dataframe tbody tr th {\n",
       "        vertical-align: top;\n",
       "    }\n",
       "\n",
       "    .dataframe thead th {\n",
       "        text-align: right;\n",
       "    }\n",
       "</style>\n",
       "<table border=\"1\" class=\"dataframe\">\n",
       "  <thead>\n",
       "    <tr style=\"text-align: right;\">\n",
       "      <th></th>\n",
       "      <th>Rooms</th>\n",
       "      <th>crime_C_average</th>\n",
       "      <th>travel_min_to_CBD</th>\n",
       "      <th>Age</th>\n",
       "      <th>Price</th>\n",
       "      <th>rooms_norm</th>\n",
       "      <th>crime_norm</th>\n",
       "      <th>travel_time_norm</th>\n",
       "      <th>age_norm</th>\n",
       "      <th>rooms_minmax</th>\n",
       "      <th>crime_minmax</th>\n",
       "      <th>travel_time_minmax</th>\n",
       "      <th>age_minmax</th>\n",
       "    </tr>\n",
       "  </thead>\n",
       "  <tbody>\n",
       "    <tr>\n",
       "      <th>count</th>\n",
       "      <td>677.000000</td>\n",
       "      <td>677.000000</td>\n",
       "      <td>677.000000</td>\n",
       "      <td>677.000000</td>\n",
       "      <td>6.770000e+02</td>\n",
       "      <td>6.770000e+02</td>\n",
       "      <td>6.770000e+02</td>\n",
       "      <td>6.770000e+02</td>\n",
       "      <td>6.770000e+02</td>\n",
       "      <td>677.000000</td>\n",
       "      <td>677.000000</td>\n",
       "      <td>677.000000</td>\n",
       "      <td>677.000000</td>\n",
       "    </tr>\n",
       "    <tr>\n",
       "      <th>mean</th>\n",
       "      <td>2.923191</td>\n",
       "      <td>450.655342</td>\n",
       "      <td>20.996613</td>\n",
       "      <td>56.903988</td>\n",
       "      <td>1.071992e+06</td>\n",
       "      <td>7.592810e-17</td>\n",
       "      <td>-2.295882e-17</td>\n",
       "      <td>1.666154e-16</td>\n",
       "      <td>-1.738311e-17</td>\n",
       "      <td>0.320532</td>\n",
       "      <td>0.220275</td>\n",
       "      <td>0.318131</td>\n",
       "      <td>0.349707</td>\n",
       "    </tr>\n",
       "    <tr>\n",
       "      <th>std</th>\n",
       "      <td>0.932647</td>\n",
       "      <td>413.564412</td>\n",
       "      <td>10.933039</td>\n",
       "      <td>36.975619</td>\n",
       "      <td>6.040169e+05</td>\n",
       "      <td>1.000739e+00</td>\n",
       "      <td>1.000739e+00</td>\n",
       "      <td>1.000739e+00</td>\n",
       "      <td>1.000739e+00</td>\n",
       "      <td>0.155441</td>\n",
       "      <td>0.202595</td>\n",
       "      <td>0.165652</td>\n",
       "      <td>0.235513</td>\n",
       "    </tr>\n",
       "    <tr>\n",
       "      <th>min</th>\n",
       "      <td>1.000000</td>\n",
       "      <td>1.000000</td>\n",
       "      <td>0.000000</td>\n",
       "      <td>2.000000</td>\n",
       "      <td>2.500000e+05</td>\n",
       "      <td>-2.063601e+00</td>\n",
       "      <td>-1.088072e+00</td>\n",
       "      <td>-1.921894e+00</td>\n",
       "      <td>-1.485968e+00</td>\n",
       "      <td>0.000000</td>\n",
       "      <td>0.000000</td>\n",
       "      <td>0.000000</td>\n",
       "      <td>0.000000</td>\n",
       "    </tr>\n",
       "    <tr>\n",
       "      <th>25%</th>\n",
       "      <td>2.000000</td>\n",
       "      <td>159.333333</td>\n",
       "      <td>16.000000</td>\n",
       "      <td>25.000000</td>\n",
       "      <td>6.500000e+05</td>\n",
       "      <td>-9.905920e-01</td>\n",
       "      <td>-7.049383e-01</td>\n",
       "      <td>-4.573576e-01</td>\n",
       "      <td>-8.634765e-01</td>\n",
       "      <td>0.166667</td>\n",
       "      <td>0.077564</td>\n",
       "      <td>0.242424</td>\n",
       "      <td>0.146497</td>\n",
       "    </tr>\n",
       "    <tr>\n",
       "      <th>50%</th>\n",
       "      <td>3.000000</td>\n",
       "      <td>338.333333</td>\n",
       "      <td>20.000000</td>\n",
       "      <td>49.000000</td>\n",
       "      <td>8.950000e+05</td>\n",
       "      <td>8.241726e-02</td>\n",
       "      <td>-2.717958e-01</td>\n",
       "      <td>-9.122353e-02</td>\n",
       "      <td>-2.139202e-01</td>\n",
       "      <td>0.333333</td>\n",
       "      <td>0.165251</td>\n",
       "      <td>0.303030</td>\n",
       "      <td>0.299363</td>\n",
       "    </tr>\n",
       "    <tr>\n",
       "      <th>75%</th>\n",
       "      <td>3.000000</td>\n",
       "      <td>575.666667</td>\n",
       "      <td>24.200000</td>\n",
       "      <td>81.000000</td>\n",
       "      <td>1.352000e+06</td>\n",
       "      <td>8.241726e-02</td>\n",
       "      <td>3.025013e-01</td>\n",
       "      <td>2.932172e-01</td>\n",
       "      <td>6.521548e-01</td>\n",
       "      <td>0.333333</td>\n",
       "      <td>0.281515</td>\n",
       "      <td>0.366667</td>\n",
       "      <td>0.503185</td>\n",
       "    </tr>\n",
       "    <tr>\n",
       "      <th>max</th>\n",
       "      <td>7.000000</td>\n",
       "      <td>2042.333333</td>\n",
       "      <td>66.000000</td>\n",
       "      <td>159.000000</td>\n",
       "      <td>4.900000e+06</td>\n",
       "      <td>4.374454e+00</td>\n",
       "      <td>3.851528e+00</td>\n",
       "      <td>4.119318e+00</td>\n",
       "      <td>2.763213e+00</td>\n",
       "      <td>1.000000</td>\n",
       "      <td>1.000000</td>\n",
       "      <td>1.000000</td>\n",
       "      <td>1.000000</td>\n",
       "    </tr>\n",
       "  </tbody>\n",
       "</table>\n",
       "</div>"
      ],
      "text/plain": [
       "            Rooms  crime_C_average  travel_min_to_CBD         Age  \\\n",
       "count  677.000000       677.000000         677.000000  677.000000   \n",
       "mean     2.923191       450.655342          20.996613   56.903988   \n",
       "std      0.932647       413.564412          10.933039   36.975619   \n",
       "min      1.000000         1.000000           0.000000    2.000000   \n",
       "25%      2.000000       159.333333          16.000000   25.000000   \n",
       "50%      3.000000       338.333333          20.000000   49.000000   \n",
       "75%      3.000000       575.666667          24.200000   81.000000   \n",
       "max      7.000000      2042.333333          66.000000  159.000000   \n",
       "\n",
       "              Price    rooms_norm    crime_norm  travel_time_norm  \\\n",
       "count  6.770000e+02  6.770000e+02  6.770000e+02      6.770000e+02   \n",
       "mean   1.071992e+06  7.592810e-17 -2.295882e-17      1.666154e-16   \n",
       "std    6.040169e+05  1.000739e+00  1.000739e+00      1.000739e+00   \n",
       "min    2.500000e+05 -2.063601e+00 -1.088072e+00     -1.921894e+00   \n",
       "25%    6.500000e+05 -9.905920e-01 -7.049383e-01     -4.573576e-01   \n",
       "50%    8.950000e+05  8.241726e-02 -2.717958e-01     -9.122353e-02   \n",
       "75%    1.352000e+06  8.241726e-02  3.025013e-01      2.932172e-01   \n",
       "max    4.900000e+06  4.374454e+00  3.851528e+00      4.119318e+00   \n",
       "\n",
       "           age_norm  rooms_minmax  crime_minmax  travel_time_minmax  \\\n",
       "count  6.770000e+02    677.000000    677.000000          677.000000   \n",
       "mean  -1.738311e-17      0.320532      0.220275            0.318131   \n",
       "std    1.000739e+00      0.155441      0.202595            0.165652   \n",
       "min   -1.485968e+00      0.000000      0.000000            0.000000   \n",
       "25%   -8.634765e-01      0.166667      0.077564            0.242424   \n",
       "50%   -2.139202e-01      0.333333      0.165251            0.303030   \n",
       "75%    6.521548e-01      0.333333      0.281515            0.366667   \n",
       "max    2.763213e+00      1.000000      1.000000            1.000000   \n",
       "\n",
       "       age_minmax  \n",
       "count  677.000000  \n",
       "mean     0.349707  \n",
       "std      0.235513  \n",
       "min      0.000000  \n",
       "25%      0.146497  \n",
       "50%      0.299363  \n",
       "75%      0.503185  \n",
       "max      1.000000  "
      ]
     },
     "execution_count": 49,
     "metadata": {},
     "output_type": "execute_result"
    }
   ],
   "source": [
    "# we can notice the values scaled between maximum and minimum values of 0,1.\n",
    "model_data.describe() # values are between 0 and 1."
   ]
  },
  {
   "cell_type": "code",
   "execution_count": 50,
   "metadata": {},
   "outputs": [
    {
     "name": "stdout",
     "output_type": "stream",
     "text": [
      "R2 score :  0.3099222565922034\n"
     ]
    }
   ],
   "source": [
    "# train the model on the minmax scaled values\n",
    "x_train, x_test, y_train, y_test = train_test_split(model_data[['rooms_minmax', 'crime_minmax', \n",
    "                                                                'travel_time_minmax','age_minmax']],\n",
    "                                                    model_data.Price,test_size=0.2,random_state=1)\n",
    "model = LinearRegression()\n",
    "model.fit(x_train, y_train)\n",
    "print(\"R2 score : \",model.score(x_test, y_test))\n"
   ]
  },
  {
   "cell_type": "code",
   "execution_count": 51,
   "metadata": {},
   "outputs": [
    {
     "data": {
      "text/plain": [
       "<matplotlib.axes._subplots.AxesSubplot at 0x1a28180208>"
      ]
     },
     "execution_count": 51,
     "metadata": {},
     "output_type": "execute_result"
    },
    {
     "data": {
      "image/png": "[encoded data removed]",
      "text/plain": [
       "<matplotlib.figure.Figure at 0x1a28022e10>"
      ]
     },
     "metadata": {},
     "output_type": "display_data"
    },
    {
     "data": {
      "image/png": "[encoded data removed]",
      "text/plain": [
       "<matplotlib.figure.Figure at 0x1a27fbfda0>"
      ]
     },
     "metadata": {},
     "output_type": "display_data"
    }
   ],
   "source": [
    "model_data[['Rooms', 'crime_C_average','travel_min_to_CBD','Age']].plot()\n",
    "model_data[['rooms_minmax', 'crime_minmax','travel_time_minmax','age_minmax']].plot()"
   ]
  },
  {
   "cell_type": "markdown",
   "metadata": {},
   "source": [
    "We can notice that all the predictors have been normalised between 0 and 1. <br>\n",
    "However, There is no difference in R square value of the model compared to the initial one because the data and the variance remains the same even after normalisation."
   ]
  },
  {
   "cell_type": "markdown",
   "metadata": {},
   "source": [
    "### 4.2 Perform Transformations\n",
    "\n",
    "Check scatter plots of the all the predictors"
   ]
  },
  {
   "cell_type": "code",
   "execution_count": 52,
   "metadata": {},
   "outputs": [
    {
     "data": {
      "text/plain": [
       "<matplotlib.collections.PathCollection at 0x1a27806c50>"
      ]
     },
     "execution_count": 52,
     "metadata": {},
     "output_type": "execute_result"
    },
    {
     "data": {
      "image/png": "[encoded data removed]",
      "text/plain": [
       "<matplotlib.figure.Figure at 0x1a276ace48>"
      ]
     },
     "metadata": {},
     "output_type": "display_data"
    }
   ],
   "source": [
    "# scatter plot all predictor vs Price\n",
    "plt.scatter(model_data[\"Rooms\"], model_data[\"Price\"]),\n",
    "plt.scatter(model_data[\"crime_C_average\"], model_data[\"Price\"]),\n",
    "plt.scatter(model_data[\"travel_min_to_CBD\"], model_data[\"Price\"]),\n",
    "plt.scatter(model_data[\"Age\"], model_data[\"Price\"])"
   ]
  },
  {
   "cell_type": "markdown",
   "metadata": {},
   "source": [
    "#### 4.2.1 Root transformation"
   ]
  },
  {
   "cell_type": "code",
   "execution_count": 53,
   "metadata": {},
   "outputs": [
    {
     "name": "stderr",
     "output_type": "stream",
     "text": [
      "/Users/Rajath/anaconda3/lib/python3.6/site-packages/ipykernel_launcher.py:2: SettingWithCopyWarning: \n",
      "A value is trying to be set on a copy of a slice from a DataFrame.\n",
      "Try using .loc[row_indexer,col_indexer] = value instead\n",
      "\n",
      "See the caveats in the documentation: http://pandas.pydata.org/pandas-docs/stable/indexing.html#indexing-view-versus-copy\n",
      "  \n",
      "/Users/Rajath/anaconda3/lib/python3.6/site-packages/ipykernel_launcher.py:3: SettingWithCopyWarning: \n",
      "A value is trying to be set on a copy of a slice from a DataFrame.\n",
      "Try using .loc[row_indexer,col_indexer] = value instead\n",
      "\n",
      "See the caveats in the documentation: http://pandas.pydata.org/pandas-docs/stable/indexing.html#indexing-view-versus-copy\n",
      "  This is separate from the ipykernel package so we can avoid doing imports until\n",
      "/Users/Rajath/anaconda3/lib/python3.6/site-packages/ipykernel_launcher.py:4: SettingWithCopyWarning: \n",
      "A value is trying to be set on a copy of a slice from a DataFrame.\n",
      "Try using .loc[row_indexer,col_indexer] = value instead\n",
      "\n",
      "See the caveats in the documentation: http://pandas.pydata.org/pandas-docs/stable/indexing.html#indexing-view-versus-copy\n",
      "  after removing the cwd from sys.path.\n",
      "/Users/Rajath/anaconda3/lib/python3.6/site-packages/ipykernel_launcher.py:5: SettingWithCopyWarning: \n",
      "A value is trying to be set on a copy of a slice from a DataFrame.\n",
      "Try using .loc[row_indexer,col_indexer] = value instead\n",
      "\n",
      "See the caveats in the documentation: http://pandas.pydata.org/pandas-docs/stable/indexing.html#indexing-view-versus-copy\n",
      "  \"\"\"\n"
     ]
    }
   ],
   "source": [
    "# initialising columns in df\n",
    "model_data['rooms_sqrt'] = None\n",
    "model_data['crimes_sqrt'] = None\n",
    "model_data['times_sqrt'] = None\n",
    "model_data['age_sqrt'] = None"
   ]
  },
  {
   "cell_type": "code",
   "execution_count": 54,
   "metadata": {},
   "outputs": [],
   "source": [
    "# computing root transformation on all the predictors\n",
    "i=0\n",
    "for row in model_data.iterrows(): \n",
    "    model_data['rooms_sqrt'].at[i] = sqrt(model_data.Rooms[i])\n",
    "    model_data['crimes_sqrt'].at[i] = sqrt(model_data.crime_C_average[i])\n",
    "    model_data['times_sqrt'].at[i] = sqrt(model_data.travel_min_to_CBD[i])\n",
    "    model_data['age_sqrt'].at[i] = sqrt(model_data.Age[i])\n",
    "    i += 1"
   ]
  },
  {
   "cell_type": "code",
   "execution_count": 55,
   "metadata": {},
   "outputs": [
    {
     "data": {
      "text/plain": [
       "<matplotlib.collections.PathCollection at 0x1a2818fc18>"
      ]
     },
     "execution_count": 55,
     "metadata": {},
     "output_type": "execute_result"
    },
    {
     "data": {
      "image/png": "[encoded data removed]",
      "text/plain": [
       "<matplotlib.figure.Figure at 0x1a28197a58>"
      ]
     },
     "metadata": {},
     "output_type": "display_data"
    }
   ],
   "source": [
    "# scatter plot the transformed predictors\n",
    "plt.scatter(model_data[\"rooms_sqrt\"], model_data[\"Price\"]), # blue\n",
    "plt.scatter(model_data[\"crimes_sqrt\"], model_data[\"Price\"]), # orange\n",
    "plt.scatter(model_data[\"times_sqrt\"], model_data[\"Price\"]), # green\n",
    "plt.scatter(model_data[\"age_sqrt\"], model_data[\"Price\"]) # red"
   ]
  },
  {
   "cell_type": "code",
   "execution_count": 56,
   "metadata": {},
   "outputs": [
    {
     "name": "stdout",
     "output_type": "stream",
     "text": [
      "R2 score :  0.27719936917294385\n"
     ]
    }
   ],
   "source": [
    "# develop linear model on the root transformed predictors\n",
    "\n",
    "x_train, x_test, y_train, y_test = train_test_split(model_data[['rooms_sqrt', 'crimes_sqrt', \n",
    "                                                                'times_sqrt','age_sqrt']],\n",
    "                                                    model_data.Price,test_size=0.2,random_state=1)\n",
    "model = LinearRegression()\n",
    "model.fit(x_train, y_train)\n",
    "print(\"R2 score : \",model.score(x_test, y_test))"
   ]
  },
  {
   "cell_type": "markdown",
   "metadata": {},
   "source": [
    "We can easily notice that the data points are scattered all over the range. The root transformation has helped the linear model to predict it better and reduce the R square error."
   ]
  },
  {
   "cell_type": "markdown",
   "metadata": {},
   "source": [
    "#### 4.2.2 log transformation"
   ]
  },
  {
   "cell_type": "code",
   "execution_count": 57,
   "metadata": {},
   "outputs": [
    {
     "name": "stderr",
     "output_type": "stream",
     "text": [
      "/Users/Rajath/anaconda3/lib/python3.6/site-packages/ipykernel_launcher.py:2: SettingWithCopyWarning: \n",
      "A value is trying to be set on a copy of a slice from a DataFrame.\n",
      "Try using .loc[row_indexer,col_indexer] = value instead\n",
      "\n",
      "See the caveats in the documentation: http://pandas.pydata.org/pandas-docs/stable/indexing.html#indexing-view-versus-copy\n",
      "  \n",
      "/Users/Rajath/anaconda3/lib/python3.6/site-packages/ipykernel_launcher.py:3: SettingWithCopyWarning: \n",
      "A value is trying to be set on a copy of a slice from a DataFrame.\n",
      "Try using .loc[row_indexer,col_indexer] = value instead\n",
      "\n",
      "See the caveats in the documentation: http://pandas.pydata.org/pandas-docs/stable/indexing.html#indexing-view-versus-copy\n",
      "  This is separate from the ipykernel package so we can avoid doing imports until\n"
     ]
    }
   ],
   "source": [
    "# initialising columns in df\n",
    "model_data['rooms_log'] = None\n",
    "model_data['crimes_log'] = None\n",
    "model_data['times_log'] = None\n",
    "model_data['age_log'] = None"
   ]
  },
  {
   "cell_type": "code",
   "execution_count": 58,
   "metadata": {},
   "outputs": [],
   "source": [
    "# computing root transformation on all the predictors\n",
    "# in this process, we cant apply log transfrom on travel time\n",
    "i=0\n",
    "for row in model_data.iterrows(): \n",
    "    model_data['rooms_log'].at[i] = log(model_data.Rooms[i])\n",
    "    model_data['crimes_log'].at[i] = log(model_data.crime_C_average[i])\n",
    "    model_data['age_log'].at[i] = log(model_data.Age[i])\n",
    "    i += 1"
   ]
  },
  {
   "cell_type": "code",
   "execution_count": 59,
   "metadata": {},
   "outputs": [
    {
     "data": {
      "text/plain": [
       "<matplotlib.collections.PathCollection at 0x1a278c3f98>"
      ]
     },
     "execution_count": 59,
     "metadata": {},
     "output_type": "execute_result"
    },
    {
     "data": {
      "image/png": "[encoded data removed]",
      "text/plain": [
       "<matplotlib.figure.Figure at 0x1a281ae630>"
      ]
     },
     "metadata": {},
     "output_type": "display_data"
    }
   ],
   "source": [
    "# develop linear model on the log transformed predictors\n",
    "plt.scatter(model_data[\"rooms_log\"], model_data[\"Price\"]),\n",
    "plt.scatter(model_data[\"crimes_log\"], model_data[\"Price\"]),\n",
    "plt.scatter(model_data[\"times_log\"], model_data[\"Price\"]),\n",
    "plt.scatter(model_data[\"age_log\"], model_data[\"Price\"])"
   ]
  },
  {
   "cell_type": "code",
   "execution_count": 60,
   "metadata": {},
   "outputs": [
    {
     "name": "stdout",
     "output_type": "stream",
     "text": [
      "R2 score :  0.19291242223148544\n"
     ]
    }
   ],
   "source": [
    "x_train, x_test, y_train, y_test = train_test_split(model_data[['rooms_log', 'crimes_log','age_log']],\n",
    "                                                    model_data.Price,test_size=0.2,random_state=1)\n",
    "model = LinearRegression()\n",
    "model.fit(x_train, y_train)\n",
    "print(\"R2 score : \",model.score(x_test, y_test))"
   ]
  },
  {
   "cell_type": "markdown",
   "metadata": {},
   "source": [
    "We can notice that the data points are scattered and distributed uniformly over the range. The log transformation has helped the linear model to predict and thus the R square error has significantly decreased compared to the previous one.\n",
    "\n",
    "#### 4.2.3 square power transformation "
   ]
  },
  {
   "cell_type": "code",
   "execution_count": 61,
   "metadata": {},
   "outputs": [],
   "source": [
    "# initialising columns in df\n",
    "model_data['rooms_pow'] = None\n",
    "model_data['crimes_pow'] = None\n",
    "model_data['times_pow'] = None\n",
    "model_data['age_pow'] = None"
   ]
  },
  {
   "cell_type": "code",
   "execution_count": 62,
   "metadata": {},
   "outputs": [],
   "source": [
    "# computing root transformation on all the predictors\n",
    "i=0\n",
    "for row in model_data.iterrows(): \n",
    "    model_data['rooms_pow'].at[i] = pow(model_data.Rooms[i],2)\n",
    "    model_data['crimes_pow'].at[i] = pow(model_data.crime_C_average[i],2)\n",
    "    model_data['times_pow'].at[i] = pow(model_data.travel_min_to_CBD[i],2)\n",
    "    model_data['age_pow'].at[i] = pow(model_data.Age[i],2)\n",
    "    i += 1"
   ]
  },
  {
   "cell_type": "code",
   "execution_count": 63,
   "metadata": {},
   "outputs": [
    {
     "data": {
      "text/plain": [
       "<matplotlib.collections.PathCollection at 0x1a2723f2b0>"
      ]
     },
     "execution_count": 63,
     "metadata": {},
     "output_type": "execute_result"
    },
    {
     "data": {
      "image/png": "[encoded data removed]",
      "text/plain": [
       "<matplotlib.figure.Figure at 0x1a278e7ac8>"
      ]
     },
     "metadata": {},
     "output_type": "display_data"
    }
   ],
   "source": [
    "# scatter plot of powered transformed predictors.\n",
    "plt.scatter(model_data[\"rooms_pow\"], model_data[\"Price\"]), # blue\n",
    "plt.scatter(model_data[\"crimes_pow\"], model_data[\"Price\"]), # orange\n",
    "plt.scatter(model_data[\"times_pow\"], model_data[\"Price\"]), # green\n",
    "plt.scatter(model_data[\"age_pow\"], model_data[\"Price\"]) # red"
   ]
  },
  {
   "cell_type": "code",
   "execution_count": 64,
   "metadata": {},
   "outputs": [
    {
     "name": "stdout",
     "output_type": "stream",
     "text": [
      "R2 score :  0.30468188085072034\n"
     ]
    }
   ],
   "source": [
    "# develop linear model on the root transformed predictors\n",
    "\n",
    "x_train, x_test, y_train, y_test = train_test_split(model_data[['rooms_pow', 'crimes_pow', \n",
    "                                                                'times_pow','age_pow']],\n",
    "                                                    model_data.Price,test_size=0.2,random_state=1)\n",
    "model = LinearRegression()\n",
    "model.fit(x_train, y_train)\n",
    "print(\"R2 score : \",model.score(x_test, y_test))"
   ]
  },
  {
   "cell_type": "markdown",
   "metadata": {},
   "source": [
    "We can notice that the data points are skewed towards one end. The square power transformation has not helped the linear model to predict and thus the R square error has increased compared to the previous one.\n",
    "\n",
    "**To conclude, Log transformation was the best transformation that helped linear model in predicting the target with least error.** "
   ]
  },
  {
   "cell_type": "markdown",
   "metadata": {},
   "source": [
    "## 5. References <a class=\"anchor\" id=\"sec_5\"></a>"
   ]
  },
  {
   "cell_type": "markdown",
   "metadata": {},
   "source": [
    "* https://medium.com/dataexplorations/working-with-open-data-shape-files-using-geopandas-how-to-match-up-your-data-with-the-areas-9377471e49f2\n",
    "* https://towardsdatascience.com/linear-regression-in-python-9a1f5f000606\n",
    "* http://geopandas.org/\n",
    "* https://stackoverflow.com/questions/11346283/renaming-columns-in-pandas\n",
    "* https://scikit-learn.org/stable/modules/generated/sklearn.linear_model.LinearRegression.html"
   ]
  },
  {
   "cell_type": "code",
   "execution_count": null,
   "metadata": {},
   "outputs": [],
   "source": []
  }
 ],
 "metadata": {
  "kernelspec": {
   "display_name": "Python 3",
   "language": "python",
   "name": "python3"
  },
  "language_info": {
   "codemirror_mode": {
    "name": "ipython",
    "version": 3
   },
   "file_extension": ".py",
   "mimetype": "text/x-python",
   "name": "python",
   "nbconvert_exporter": "python",
   "pygments_lexer": "ipython3",
   "version": "3.6.4"
  }
 },
 "nbformat": 4,
 "nbformat_minor": 2
}
